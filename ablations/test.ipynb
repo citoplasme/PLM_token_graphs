{
 "cells": [
  {
   "cell_type": "code",
   "execution_count": 1,
   "metadata": {},
   "outputs": [],
   "source": [
    "import torch"
   ]
  },
  {
   "cell_type": "code",
   "execution_count": 4,
   "metadata": {},
   "outputs": [],
   "source": [
    "x = torch.zeros(10, 20, dtype = torch.float64)"
   ]
  },
  {
   "cell_type": "code",
   "execution_count": 5,
   "metadata": {},
   "outputs": [
    {
     "data": {
      "text/plain": [
       "tensor([[0., 0., 0., 0., 0., 0., 0., 0., 0., 0., 0., 0., 0., 0., 0., 0., 0., 0., 0., 0.],\n",
       "        [0., 0., 0., 0., 0., 0., 0., 0., 0., 0., 0., 0., 0., 0., 0., 0., 0., 0., 0., 0.],\n",
       "        [0., 0., 0., 0., 0., 0., 0., 0., 0., 0., 0., 0., 0., 0., 0., 0., 0., 0., 0., 0.],\n",
       "        [0., 0., 0., 0., 0., 0., 0., 0., 0., 0., 0., 0., 0., 0., 0., 0., 0., 0., 0., 0.],\n",
       "        [0., 0., 0., 0., 0., 0., 0., 0., 0., 0., 0., 0., 0., 0., 0., 0., 0., 0., 0., 0.],\n",
       "        [0., 0., 0., 0., 0., 0., 0., 0., 0., 0., 0., 0., 0., 0., 0., 0., 0., 0., 0., 0.],\n",
       "        [0., 0., 0., 0., 0., 0., 0., 0., 0., 0., 0., 0., 0., 0., 0., 0., 0., 0., 0., 0.],\n",
       "        [0., 0., 0., 0., 0., 0., 0., 0., 0., 0., 0., 0., 0., 0., 0., 0., 0., 0., 0., 0.],\n",
       "        [0., 0., 0., 0., 0., 0., 0., 0., 0., 0., 0., 0., 0., 0., 0., 0., 0., 0., 0., 0.],\n",
       "        [0., 0., 0., 0., 0., 0., 0., 0., 0., 0., 0., 0., 0., 0., 0., 0., 0., 0., 0., 0.]],\n",
       "       dtype=torch.float64)"
      ]
     },
     "execution_count": 5,
     "metadata": {},
     "output_type": "execute_result"
    }
   ],
   "source": [
    "x"
   ]
  },
  {
   "cell_type": "code",
   "execution_count": 65,
   "metadata": {},
   "outputs": [],
   "source": [
    "def add_noise_to_embeddings(x, feature_noise_level = 0.0, node_noise_level = 0.0, device = 'cpu'):\n",
    "  node_mask = torch.rand(x.size(0), device = device) >= 1.0 - node_noise_level\n",
    "  feature_mask = torch.rand(x.size(1), device = device) >= 1.0 - feature_noise_level\n",
    "  noise = torch.randn(x.shape, device = device)\n",
    "  noise = noise * node_mask.view(-1, 1) * feature_mask.view(1, -1)\n",
    "  return x + noise"
   ]
  },
  {
   "cell_type": "code",
   "execution_count": 67,
   "metadata": {},
   "outputs": [
    {
     "data": {
      "text/plain": [
       "tensor([[0., 0., 0., 0., 0.],\n",
       "        [0., 0., 0., 0., 0.],\n",
       "        [0., 0., 0., 0., 0.],\n",
       "        [0., 0., 0., 0., 0.],\n",
       "        [0., 0., 0., 0., 0.],\n",
       "        [0., 0., 0., 0., 0.],\n",
       "        [0., 0., 0., 0., 0.],\n",
       "        [0., 0., 0., 0., 0.],\n",
       "        [0., 0., 0., 0., 0.],\n",
       "        [0., 0., 0., 0., 0.]])"
      ]
     },
     "execution_count": 67,
     "metadata": {},
     "output_type": "execute_result"
    }
   ],
   "source": [
    "add_noise_to_embeddings(torch.zeros(10, 5), feature_noise_level = 0.0, node_noise_level = 0.0)"
   ]
  },
  {
   "cell_type": "code",
   "execution_count": 84,
   "metadata": {},
   "outputs": [
    {
     "data": {
      "text/plain": [
       "tensor([[ 0.0000,  0.0000,  0.0000,  0.0000,  0.0000],\n",
       "        [-0.1278,  1.0095,  1.4943,  1.5964, -0.1076],\n",
       "        [ 0.0000,  0.0000,  0.0000,  0.0000,  0.0000],\n",
       "        [-0.3475, -0.4565, -0.3246,  0.7282,  1.0920],\n",
       "        [ 0.3180,  1.7468,  1.3427,  0.3229, -1.4050],\n",
       "        [ 0.2212, -0.0103,  0.5024, -0.7270, -2.0214],\n",
       "        [ 0.2829,  1.8324,  0.0943,  0.3567, -0.7862],\n",
       "        [ 0.8415, -1.4660, -1.2863, -1.3390, -1.0384],\n",
       "        [ 0.3774,  0.3527,  0.4468,  1.0492,  0.5298],\n",
       "        [ 0.0000,  0.0000,  0.0000,  0.0000,  0.0000]])"
      ]
     },
     "execution_count": 84,
     "metadata": {},
     "output_type": "execute_result"
    }
   ],
   "source": [
    "add_noise_to_embeddings(torch.zeros(10, 5), feature_noise_level = 1, node_noise_level = 0.8)"
   ]
  },
  {
   "cell_type": "code",
   "execution_count": null,
   "metadata": {},
   "outputs": [],
   "source": [
    "# feature_noise_level = 0.25, node_noise_level = 0.25\n",
    "# feature_noise_level = 0.25, node_noise_level = 0.50\n",
    "# feature_noise_level = 0.25, node_noise_level = 0.75\n",
    "\n",
    "# feature_noise_level = 0.50, node_noise_level = 0.25\n",
    "# feature_noise_level = 0.50, node_noise_level = 0.50\n",
    "# feature_noise_level = 0.50, node_noise_level = 0.75\n",
    "\n",
    "# feature_noise_level = 0.75, node_noise_level = 0.25\n",
    "# feature_noise_level = 0.75, node_noise_level = 0.50\n",
    "# feature_noise_level = 0.75, node_noise_level = 0.75"
   ]
  }
 ],
 "metadata": {
  "kernelspec": {
   "display_name": "Python 3",
   "language": "python",
   "name": "python3"
  },
  "language_info": {
   "codemirror_mode": {
    "name": "ipython",
    "version": 3
   },
   "file_extension": ".py",
   "mimetype": "text/x-python",
   "name": "python",
   "nbconvert_exporter": "python",
   "pygments_lexer": "ipython3",
   "version": "3.10.16"
  }
 },
 "nbformat": 4,
 "nbformat_minor": 2
}
