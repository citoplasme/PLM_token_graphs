{
 "cells": [
  {
   "cell_type": "code",
   "execution_count": 1,
   "metadata": {},
   "outputs": [],
   "source": [
    "import pandas as pd\n",
    "import numpy as np\n",
    "import matplotlib.pyplot as plt\n",
    "import matplotlib.colors as mcolors\n",
    "import graphviz"
   ]
  },
  {
   "cell_type": "code",
   "execution_count": 2,
   "metadata": {},
   "outputs": [],
   "source": [
    "def create_grey_to_black_colormap():\n",
    "  color_dictionary = {\n",
    "    'red': [\n",
    "      (0.0, 0.75, 0.75),\n",
    "      (1.0, 0.0, 0.0)\n",
    "    ],\n",
    "    'green': [\n",
    "      (0.0, 0.75, 0.75),\n",
    "      (1.0, 0.0, 0.0)\n",
    "    ],\n",
    "    'blue': [\n",
    "      (0.0, 0.75, 0.75),\n",
    "      (1.0, 0.0, 0.0)\n",
    "    ]\n",
    "  }\n",
    "    \n",
    "  return mcolors.LinearSegmentedColormap('GreyToBlack', color_dictionary)\n",
    "\n",
    "def create_yellow_colormap():\n",
    "  light_yellow = mcolors.hex2color('#FFF9E2')\n",
    "  dark_yellow = mcolors.hex2color('#FFD500')\n",
    "    \n",
    "  color_dictionary = {\n",
    "    'red':   [(0.0, light_yellow[0], light_yellow[0]), (1.0, dark_yellow[0], dark_yellow[0])],\n",
    "    'green': [(0.0, light_yellow[1], light_yellow[1]), (1.0, dark_yellow[1], dark_yellow[1])],\n",
    "    'blue':  [(0.0, light_yellow[2], light_yellow[2]), (1.0, dark_yellow[2], dark_yellow[2])]\n",
    "  }\n",
    "\n",
    "  return mcolors.LinearSegmentedColormap('YellowGradient', color_dictionary)\n",
    "\n",
    "def create_color_gradient(values, colormap):\n",
    "  norm = plt.Normalize(np.min(values), np.max(values))\n",
    "  normalized_values = norm(values)    \n",
    "  rgb_colors = colormap(normalized_values)\n",
    "  return [mcolors.to_hex(color) for color in rgb_colors]"
   ]
  },
  {
   "cell_type": "code",
   "execution_count": 3,
   "metadata": {},
   "outputs": [],
   "source": [
    "grey_to_black_cmap = create_grey_to_black_colormap()\n",
    "light_to_dark_yellow_cmap = create_yellow_colormap()"
   ]
  },
  {
   "cell_type": "code",
   "execution_count": 4,
   "metadata": {},
   "outputs": [],
   "source": [
    "def visualize_graph(name):\n",
    "  df = pd.read_csv(f'{name}.csv')\n",
    "  nodes = pd.concat([\n",
    "    df[['from_id', 'from']].rename(columns = {'from_id' : 'id', 'from' : 'token'}),\n",
    "    df[['to_id', 'to']].rename(columns = {'to_id' : 'id', 'to' : 'token'})],\n",
    "    axis = 0\n",
    "  ).drop_duplicates()\n",
    "  edge_colors = create_color_gradient(df['weight'], grey_to_black_cmap)\n",
    "  graph = graphviz.Digraph('3-gram', engine = 'circo') # engine = 'circo', 'twopi', 'dot\n",
    "  graph.graph_attr['dpi'] = '300'\n",
    "\n",
    "  for i, node in nodes.iterrows():\n",
    "    graph.node(str(node['id']), label = node['token'], color = '#363636', style = 'filled', fillcolor = '#ffd53d', shape = 'oval')\n",
    "\n",
    "  for i, row in df.iterrows():\n",
    "    graph.edge(str(row['from_id']), str(row['to_id']), arrowsize = '0.5', color = edge_colors[i])\n",
    "  graph.render(directory = f'./{name}', format = 'png', view = True)"
   ]
  },
  {
   "cell_type": "markdown",
   "metadata": {},
   "source": [
    "# Grouped, No threshold"
   ]
  },
  {
   "cell_type": "code",
   "execution_count": 5,
   "metadata": {},
   "outputs": [],
   "source": [
    "visualize_graph('Grouped-0.0%')"
   ]
  },
  {
   "cell_type": "markdown",
   "metadata": {},
   "source": [
    "# Grouped, 60% quantile threshold"
   ]
  },
  {
   "cell_type": "code",
   "execution_count": 6,
   "metadata": {},
   "outputs": [],
   "source": [
    "visualize_graph('Grouped-60.0%')"
   ]
  },
  {
   "cell_type": "markdown",
   "metadata": {},
   "source": [
    "# Surrogate, No threshold"
   ]
  },
  {
   "cell_type": "code",
   "execution_count": 7,
   "metadata": {},
   "outputs": [],
   "source": [
    "visualize_graph('Surrogate-0.0%')"
   ]
  },
  {
   "cell_type": "markdown",
   "metadata": {},
   "source": [
    "# Surrogate, 60% quantile threshold"
   ]
  },
  {
   "cell_type": "code",
   "execution_count": 8,
   "metadata": {},
   "outputs": [],
   "source": [
    "visualize_graph('Surrogate-60.0%')"
   ]
  }
 ],
 "metadata": {
  "kernelspec": {
   "display_name": "Python 3",
   "language": "python",
   "name": "python3"
  },
  "language_info": {
   "codemirror_mode": {
    "name": "ipython",
    "version": 3
   },
   "file_extension": ".py",
   "mimetype": "text/x-python",
   "name": "python",
   "nbconvert_exporter": "python",
   "pygments_lexer": "ipython3",
   "version": "3.10.16"
  }
 },
 "nbformat": 4,
 "nbformat_minor": 2
}
