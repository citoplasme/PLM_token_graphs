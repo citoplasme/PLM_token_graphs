{
 "cells": [
  {
   "cell_type": "code",
   "execution_count": 1,
   "metadata": {},
   "outputs": [
    {
     "name": "stderr",
     "output_type": "stream",
     "text": [
      "/opt/homebrew/lib/python3.10/site-packages/tqdm/auto.py:22: TqdmWarning: IProgress not found. Please update jupyter and ipywidgets. See https://ipywidgets.readthedocs.io/en/stable/user_install.html\n",
      "  from .autonotebook import tqdm as notebook_tqdm\n"
     ]
    }
   ],
   "source": [
    "import os\n",
    "import pandas as pd\n",
    "import sklearn.metrics\n",
    "import numpy as np\n",
    "import optuna\n",
    "import warnings\n",
    "warnings.filterwarnings('ignore')"
   ]
  },
  {
   "cell_type": "code",
   "execution_count": 2,
   "metadata": {},
   "outputs": [],
   "source": [
    "TRIALS = 250\n",
    "TOP_N = 1"
   ]
  },
  {
   "cell_type": "code",
   "execution_count": 23,
   "metadata": {},
   "outputs": [],
   "source": [
    "def load_performance_metrics(dataset, gnn, llm, method, aggregation, display_information = False):\n",
    "  \n",
    "  study_name = f'{dataset}-{gnn}-{llm.replace(\"/\", \"-\")}-{method}-{aggregation}'\n",
    "  storage = f'sqlite:///../../pipelines/optuna_studies/{study_name}.db'\n",
    "  study = optuna.load_study(study_name = study_name, storage = storage)\n",
    "  \n",
    "  study_df = study.trials_dataframe()\n",
    "\n",
    "  study_df = study_df[study_df['value'] >= 0.0].sort_values(by = 'number', ascending = True)\n",
    "  columns = ['number', 'value'] + [x for x in study_df.columns if x.startswith('params_')] + [x for x in study_df.columns if x.startswith('user_attrs_')]\n",
    "\n",
    "  top_trials = study_df[columns].head(TRIALS).sort_values(by = ['value', 'user_attrs_validation_loss', 'user_attrs_training_loss'], ascending = [False, True, True]).head(TOP_N)# .head(3) for R8, BART-large due to exceptions\n",
    "  \n",
    "  performance = list()\n",
    "  #for trial in [x for x in os.listdir(f'../../outputs/{dataset}-{gnn}-{llm}/{method}/{aggregation}') if os.path.isdir(f'../../outputs/{dataset}-{gnn}-{llm}/{method}/{aggregation}/{x}')]:\n",
    "  for _, row in top_trials.iterrows():\n",
    "    \n",
    "    if display_information:\n",
    "      print(row)\n",
    "    trial = row['number']\n",
    "\n",
    "    for random_state in [x for x in os.listdir(f'../../outputs/{dataset}-{gnn}-{llm}/{method}/{aggregation}/{trial}') if os.path.isdir(f'../../outputs/{dataset}-{gnn}-{llm}/{method}/{aggregation}/{trial}/{x}')]:\n",
    "      df = pd.read_csv(f'../../outputs/{dataset}-{gnn}-{llm}/{method}/{aggregation}/{trial}/{random_state}/predictions.csv')\n",
    "      for split in ['validation', 'test']:\n",
    "        df_split = df[df['split'] == split]\n",
    "        accuracy = sklearn.metrics.accuracy_score(df_split['real'], df_split['prediction'])\n",
    "        f1_score = sklearn.metrics.f1_score(df_split['real'], df_split['prediction'], average = 'macro')\n",
    "        precision = sklearn.metrics.precision_score(df_split['real'], df_split['prediction'], average = 'macro')\n",
    "        recall = sklearn.metrics.recall_score(df_split['real'], df_split['prediction'], average = 'macro')\n",
    "        performance.append((trial, random_state, split, accuracy, f1_score, precision, recall))\n",
    "  return pd.DataFrame(performance, columns = ['trial', 'random_state', 'split', 'accuracy', 'f1_score', 'precision', 'recall'])"
   ]
  },
  {
   "cell_type": "code",
   "execution_count": 4,
   "metadata": {},
   "outputs": [],
   "source": [
    "def remove_trials_with_exceptions(df):\n",
    "  return df.groupby(['trial']).filter(lambda x : len(x) >= 10 * 2).reset_index(drop = True)"
   ]
  },
  {
   "cell_type": "code",
   "execution_count": 5,
   "metadata": {},
   "outputs": [],
   "source": [
    "def get_best_results(dataset, gnn, llm, method, aggregation, target_metric):\n",
    "  df = load_performance_metrics(dataset = dataset, gnn = gnn, llm = llm, method = method, aggregation = aggregation, display_information = True)\n",
    "  df = remove_trials_with_exceptions(df)\n",
    "  df_aggregated = df.groupby(['trial', 'split']).agg({\n",
    "    'accuracy' : ['mean', 'std', 'max'],\n",
    "    'f1_score' : ['mean', 'std'],\n",
    "    'precision' : ['mean', 'std'],\n",
    "    'recall' : ['mean', 'std'],\n",
    "  }).reset_index()\n",
    "  df_aggregated.columns = df_aggregated.columns.map('_'.join).str.strip('_')\n",
    "  \n",
    "  best_trial_number = df_aggregated.sort_values(by = ['split', f'{target_metric}_mean', f'{target_metric}_std'], ascending = [True, False, True]).reset_index(drop = True).iloc[0]['trial']\n",
    "\n",
    "  best_trial = df_aggregated[df_aggregated['trial'] == best_trial_number]\n",
    "\n",
    "  print(best_trial_number)\n",
    "  print(\n",
    "    'Accuracy:',\n",
    "    '{:.2f}'.format(np.round(best_trial[best_trial['split'] == 'test']['accuracy_mean'].values[0] * 100, decimals = 2)),\n",
    "    '±', \n",
    "    '{:.2f}'.format(np.round(best_trial[best_trial['split'] == 'test']['accuracy_std'].values[0] * 100, decimals = 2)),\n",
    "    ',',\n",
    "    '{:.2f}'.format(np.round(best_trial[best_trial['split'] == 'test']['accuracy_max'].values[0] * 100, decimals = 2)),\n",
    "  )"
   ]
  },
  {
   "cell_type": "markdown",
   "metadata": {},
   "source": [
    "# RQ 4"
   ]
  },
  {
   "cell_type": "markdown",
   "metadata": {},
   "source": [
    "_______________"
   ]
  },
  {
   "cell_type": "markdown",
   "metadata": {},
   "source": [
    "## BERT-base, Grouped"
   ]
  },
  {
   "cell_type": "code",
   "execution_count": 6,
   "metadata": {},
   "outputs": [
    {
     "name": "stdout",
     "output_type": "stream",
     "text": [
      "number                                     221\n",
      "value                                  0.91055\n",
      "params_attention_heads                       7\n",
      "params_attention_pooling_operation         min\n",
      "params_balanced_loss                      True\n",
      "params_batch_size                           67\n",
      "params_beta_0                         0.836906\n",
      "params_beta_1                         0.988719\n",
      "params_dropout_rate                   0.469089\n",
      "params_early_stopping_patience              23\n",
      "params_embedding_pooling_operation         max\n",
      "params_epochs                               69\n",
      "params_epsilon                             0.0\n",
      "params_global_pooling                      max\n",
      "params_hidden_dimension                    238\n",
      "params_learning_rate                  0.000592\n",
      "params_number_of_hidden_layers               2\n",
      "params_plateau_divider                       6\n",
      "params_plateau_patience                     19\n",
      "params_threshold                      0.574329\n",
      "params_weight_decay                   0.000125\n",
      "user_attrs_epoch                          10.0\n",
      "user_attrs_training_loss              0.164726\n",
      "user_attrs_validation_loss            0.277425\n",
      "Name: 221, dtype: object\n",
      "221\n",
      "Accuracy: 89.52 ± 0.75 , 90.50\n"
     ]
    }
   ],
   "source": [
    "get_best_results(dataset = 'SST-2', gnn = 'GATv2', llm = 'google-bert-bert-base-uncased', method = 'Grouped', aggregation = 'No_Aggregation', target_metric = 'accuracy')"
   ]
  },
  {
   "cell_type": "code",
   "execution_count": 7,
   "metadata": {},
   "outputs": [
    {
     "name": "stdout",
     "output_type": "stream",
     "text": [
      "number                                     291\n",
      "value                                 0.657566\n",
      "params_attention_heads                      14\n",
      "params_attention_pooling_operation         max\n",
      "params_balanced_loss                     False\n",
      "params_batch_size                           40\n",
      "params_beta_0                         0.821612\n",
      "params_beta_1                         0.985736\n",
      "params_dropout_rate                   0.397687\n",
      "params_early_stopping_patience              18\n",
      "params_embedding_pooling_operation        mean\n",
      "params_epochs                              171\n",
      "params_epsilon                        0.000007\n",
      "params_global_pooling                      max\n",
      "params_hidden_dimension                    241\n",
      "params_learning_rate                  0.000142\n",
      "params_left_stride                           0\n",
      "params_number_of_hidden_layers               2\n",
      "params_plateau_divider                       9\n",
      "params_plateau_patience                     10\n",
      "params_right_stride                         64\n",
      "params_threshold                      0.864514\n",
      "params_weight_decay                   0.000218\n",
      "user_attrs_epoch                          26.0\n",
      "user_attrs_training_loss              0.050422\n",
      "user_attrs_validation_loss            1.526491\n",
      "Name: 291, dtype: object\n",
      "291\n",
      "Accuracy: 69.96 ± 0.51 , 70.91\n"
     ]
    }
   ],
   "source": [
    "get_best_results(dataset = 'Ohsumed', gnn = 'GATv2', llm = 'google-bert-bert-base-uncased', method = 'Grouped', aggregation = 'No_Aggregation', target_metric = 'accuracy')"
   ]
  },
  {
   "cell_type": "code",
   "execution_count": 8,
   "metadata": {},
   "outputs": [
    {
     "name": "stdout",
     "output_type": "stream",
     "text": [
      "number                                     220\n",
      "value                                 0.966294\n",
      "params_attention_heads                       6\n",
      "params_attention_pooling_operation        mean\n",
      "params_balanced_loss                     False\n",
      "params_batch_size                           92\n",
      "params_beta_0                         0.895508\n",
      "params_beta_1                         0.987714\n",
      "params_dropout_rate                   0.552551\n",
      "params_early_stopping_patience              20\n",
      "params_embedding_pooling_operation         min\n",
      "params_epochs                               64\n",
      "params_epsilon                             0.0\n",
      "params_global_pooling                      max\n",
      "params_hidden_dimension                    125\n",
      "params_learning_rate                  0.000316\n",
      "params_left_stride                          32\n",
      "params_number_of_hidden_layers               2\n",
      "params_plateau_divider                       9\n",
      "params_plateau_patience                     23\n",
      "params_right_stride                        128\n",
      "params_threshold                      0.659811\n",
      "params_weight_decay                   0.000017\n",
      "user_attrs_epoch                          18.0\n",
      "user_attrs_training_loss              0.037517\n",
      "user_attrs_validation_loss            0.090325\n",
      "Name: 220, dtype: object\n",
      "220\n",
      "Accuracy: 97.85 ± 0.25 , 98.17\n"
     ]
    }
   ],
   "source": [
    "get_best_results(dataset = 'R8', gnn = 'GATv2', llm = 'google-bert-bert-base-uncased', method = 'Grouped', aggregation = 'No_Aggregation', target_metric = 'accuracy')"
   ]
  },
  {
   "cell_type": "code",
   "execution_count": 9,
   "metadata": {},
   "outputs": [],
   "source": [
    "#get_best_results(dataset = 'RTSP', gnn = 'GATv2', llm = 'google-bert-bert-base-uncased', method = 'Grouped', aggregation = 'No_Aggregation', target_metric = 'accuracy')"
   ]
  },
  {
   "cell_type": "markdown",
   "metadata": {},
   "source": [
    "## BERT-base, Surrogate"
   ]
  },
  {
   "cell_type": "code",
   "execution_count": 10,
   "metadata": {},
   "outputs": [
    {
     "name": "stdout",
     "output_type": "stream",
     "text": [
      "number                                     255\n",
      "value                                 0.912844\n",
      "params_attention_heads                      16\n",
      "params_attention_pooling_operation         max\n",
      "params_balanced_loss                      True\n",
      "params_batch_size                           77\n",
      "params_beta_0                         0.834165\n",
      "params_beta_1                         0.981367\n",
      "params_dropout_rate                   0.454022\n",
      "params_early_stopping_patience              15\n",
      "params_embedding_pooling_operation         max\n",
      "params_epochs                              197\n",
      "params_epsilon                        0.000002\n",
      "params_global_pooling                     mean\n",
      "params_hidden_dimension                    196\n",
      "params_learning_rate                  0.001156\n",
      "params_number_of_hidden_layers               3\n",
      "params_plateau_divider                       5\n",
      "params_plateau_patience                     11\n",
      "params_threshold                       0.48984\n",
      "params_weight_decay                   0.000007\n",
      "user_attrs_epoch                           6.0\n",
      "user_attrs_training_loss              0.223694\n",
      "user_attrs_validation_loss            0.261836\n",
      "Name: 255, dtype: object\n",
      "255\n",
      "Accuracy: 89.18 ± 0.76 , 90.55\n"
     ]
    }
   ],
   "source": [
    "get_best_results(dataset = 'SST-2', gnn = 'GATv2', llm = 'google-bert-bert-base-uncased', method = 'Surrogate', aggregation = 'No_Aggregation', target_metric = 'accuracy')"
   ]
  },
  {
   "cell_type": "code",
   "execution_count": 11,
   "metadata": {},
   "outputs": [
    {
     "name": "stdout",
     "output_type": "stream",
     "text": [
      "number                                     417\n",
      "value                                 0.655114\n",
      "params_attention_heads                       9\n",
      "params_attention_pooling_operation         max\n",
      "params_balanced_loss                     False\n",
      "params_batch_size                           36\n",
      "params_beta_0                         0.815749\n",
      "params_beta_1                         0.981366\n",
      "params_dropout_rate                    0.35046\n",
      "params_early_stopping_patience              16\n",
      "params_embedding_pooling_operation         min\n",
      "params_epochs                               59\n",
      "params_epsilon                         0.00008\n",
      "params_global_pooling                      max\n",
      "params_hidden_dimension                    105\n",
      "params_learning_rate                  0.000311\n",
      "params_left_stride                         256\n",
      "params_number_of_hidden_layers               2\n",
      "params_plateau_divider                      10\n",
      "params_plateau_patience                     12\n",
      "params_right_stride                         64\n",
      "params_threshold                      0.955926\n",
      "params_weight_decay                   0.000271\n",
      "user_attrs_epoch                          27.0\n",
      "user_attrs_training_loss               0.03973\n",
      "user_attrs_validation_loss            1.563882\n",
      "Name: 417, dtype: object\n",
      "417\n",
      "Accuracy: 70.18 ± 0.83 , 71.04\n"
     ]
    }
   ],
   "source": [
    "get_best_results(dataset = 'Ohsumed', gnn = 'GATv2', llm = 'google-bert-bert-base-uncased', method = 'Surrogate', aggregation = 'No_Aggregation', target_metric = 'accuracy')"
   ]
  },
  {
   "cell_type": "code",
   "execution_count": 12,
   "metadata": {},
   "outputs": [
    {
     "name": "stdout",
     "output_type": "stream",
     "text": [
      "number                                     215\n",
      "value                                 0.957508\n",
      "params_attention_heads                       8\n",
      "params_attention_pooling_operation         max\n",
      "params_balanced_loss                     False\n",
      "params_batch_size                          110\n",
      "params_beta_0                         0.816872\n",
      "params_beta_1                         0.996901\n",
      "params_dropout_rate                   0.348761\n",
      "params_early_stopping_patience              20\n",
      "params_embedding_pooling_operation         max\n",
      "params_epochs                               72\n",
      "params_epsilon                        0.000002\n",
      "params_global_pooling                      max\n",
      "params_hidden_dimension                     37\n",
      "params_learning_rate                  0.000097\n",
      "params_left_stride                          32\n",
      "params_number_of_hidden_layers               2\n",
      "params_plateau_divider                       2\n",
      "params_plateau_patience                     23\n",
      "params_right_stride                          0\n",
      "params_threshold                      0.821735\n",
      "params_weight_decay                   0.000276\n",
      "user_attrs_epoch                          49.0\n",
      "user_attrs_training_loss              0.016411\n",
      "user_attrs_validation_loss             0.10789\n",
      "Name: 215, dtype: object\n",
      "215\n",
      "Accuracy: 97.63 ± 0.33 , 98.04\n"
     ]
    }
   ],
   "source": [
    "get_best_results(dataset = 'R8', gnn = 'GATv2', llm = 'google-bert-bert-base-uncased', method = 'Surrogate', aggregation = 'No_Aggregation', target_metric = 'accuracy')"
   ]
  },
  {
   "cell_type": "code",
   "execution_count": 13,
   "metadata": {},
   "outputs": [],
   "source": [
    "#get_best_results(dataset = 'RTSP', gnn = 'GATv2', llm = 'google-bert-bert-base-uncased', method = 'Surrogate', aggregation = 'No_Aggregation', target_metric = 'accuracy')"
   ]
  },
  {
   "cell_type": "markdown",
   "metadata": {},
   "source": [
    "## BART-base, Grouped"
   ]
  },
  {
   "cell_type": "code",
   "execution_count": 14,
   "metadata": {},
   "outputs": [
    {
     "name": "stdout",
     "output_type": "stream",
     "text": [
      "number                                     141\n",
      "value                                 0.925459\n",
      "params_attention_heads                      12\n",
      "params_attention_pooling_operation         max\n",
      "params_balanced_loss                     False\n",
      "params_batch_size                          121\n",
      "params_beta_0                         0.846054\n",
      "params_beta_1                         0.998926\n",
      "params_dropout_rate                   0.442588\n",
      "params_early_stopping_patience              21\n",
      "params_embedding_pooling_operation         max\n",
      "params_epochs                               63\n",
      "params_epsilon                        0.000002\n",
      "params_global_pooling                      max\n",
      "params_hidden_dimension                     58\n",
      "params_learning_rate                  0.003539\n",
      "params_number_of_hidden_layers               4\n",
      "params_plateau_divider                       4\n",
      "params_plateau_patience                     12\n",
      "params_threshold                      0.662727\n",
      "params_weight_decay                   0.000078\n",
      "user_attrs_epoch                           8.0\n",
      "user_attrs_training_loss              0.180338\n",
      "user_attrs_validation_loss            0.220084\n",
      "Name: 141, dtype: object\n",
      "141\n",
      "Accuracy: 91.86 ± 0.52 , 92.64\n"
     ]
    }
   ],
   "source": [
    "get_best_results(dataset = 'SST-2', gnn = 'GATv2', llm = 'facebook-bart-base', method = 'Grouped', aggregation = 'No_Aggregation', target_metric = 'accuracy')"
   ]
  },
  {
   "cell_type": "code",
   "execution_count": 15,
   "metadata": {},
   "outputs": [
    {
     "name": "stdout",
     "output_type": "stream",
     "text": [
      "number                                     224\n",
      "value                                 0.629495\n",
      "params_attention_heads                       4\n",
      "params_attention_pooling_operation         max\n",
      "params_balanced_loss                     False\n",
      "params_batch_size                          105\n",
      "params_beta_0                         0.810466\n",
      "params_beta_1                         0.987975\n",
      "params_dropout_rate                   0.416937\n",
      "params_early_stopping_patience              20\n",
      "params_embedding_pooling_operation        mean\n",
      "params_epochs                              161\n",
      "params_epsilon                             0.0\n",
      "params_global_pooling                     mean\n",
      "params_hidden_dimension                    141\n",
      "params_learning_rate                  0.001984\n",
      "params_left_stride                          32\n",
      "params_number_of_hidden_layers               1\n",
      "params_plateau_divider                       5\n",
      "params_plateau_patience                     14\n",
      "params_right_stride                         64\n",
      "params_threshold                      0.832709\n",
      "params_weight_decay                   0.000007\n",
      "user_attrs_epoch                          29.0\n",
      "user_attrs_training_loss              0.065893\n",
      "user_attrs_validation_loss            1.608362\n",
      "Name: 224, dtype: object\n",
      "224\n",
      "Accuracy: 71.60 ± 0.71 , 72.50\n"
     ]
    }
   ],
   "source": [
    "get_best_results(dataset = 'Ohsumed', gnn = 'GATv2', llm = 'facebook-bart-base', method = 'Grouped', aggregation = 'No_Aggregation', target_metric = 'accuracy')"
   ]
  },
  {
   "cell_type": "code",
   "execution_count": 16,
   "metadata": {},
   "outputs": [
    {
     "name": "stdout",
     "output_type": "stream",
     "text": [
      "number                                     170\n",
      "value                                 0.968568\n",
      "params_attention_heads                       6\n",
      "params_attention_pooling_operation         max\n",
      "params_balanced_loss                     False\n",
      "params_batch_size                          163\n",
      "params_beta_0                         0.848785\n",
      "params_beta_1                         0.994063\n",
      "params_dropout_rate                   0.324637\n",
      "params_early_stopping_patience              20\n",
      "params_embedding_pooling_operation         max\n",
      "params_epochs                              116\n",
      "params_epsilon                             0.0\n",
      "params_global_pooling                      max\n",
      "params_hidden_dimension                    132\n",
      "params_learning_rate                  0.000106\n",
      "params_left_stride                         128\n",
      "params_number_of_hidden_layers               2\n",
      "params_plateau_divider                       4\n",
      "params_plateau_patience                     12\n",
      "params_right_stride                          0\n",
      "params_threshold                      0.673496\n",
      "params_weight_decay                   0.000013\n",
      "user_attrs_epoch                          21.0\n",
      "user_attrs_training_loss              0.041063\n",
      "user_attrs_validation_loss            0.083266\n",
      "Name: 170, dtype: object\n",
      "170\n",
      "Accuracy: 97.78 ± 0.23 , 98.08\n"
     ]
    }
   ],
   "source": [
    "get_best_results(dataset = 'R8', gnn = 'GATv2', llm = 'facebook-bart-base', method = 'Grouped', aggregation = 'No_Aggregation', target_metric = 'accuracy')"
   ]
  },
  {
   "cell_type": "code",
   "execution_count": 17,
   "metadata": {},
   "outputs": [
    {
     "name": "stdout",
     "output_type": "stream",
     "text": [
      "number                                     235\n",
      "value                                 0.877637\n",
      "params_attention_heads                      14\n",
      "params_attention_pooling_operation         min\n",
      "params_balanced_loss                     False\n",
      "params_batch_size                           89\n",
      "params_beta_0                         0.846446\n",
      "params_beta_1                         0.987113\n",
      "params_dropout_rate                   0.588638\n",
      "params_early_stopping_patience              13\n",
      "params_embedding_pooling_operation         max\n",
      "params_epochs                               69\n",
      "params_epsilon                             0.0\n",
      "params_global_pooling                      max\n",
      "params_hidden_dimension                    233\n",
      "params_learning_rate                  0.000161\n",
      "params_number_of_hidden_layers               0\n",
      "params_plateau_divider                       5\n",
      "params_plateau_patience                     13\n",
      "params_threshold                      0.408957\n",
      "params_weight_decay                   0.000037\n",
      "user_attrs_epoch                          27.0\n",
      "user_attrs_training_loss              0.211129\n",
      "user_attrs_validation_loss            0.325397\n",
      "Name: 235, dtype: object\n",
      "235\n",
      "Accuracy: 86.84 ± 0.21 , 87.06\n"
     ]
    }
   ],
   "source": [
    "get_best_results(dataset = 'RTSP', gnn = 'GATv2', llm = 'facebook-bart-base', method = 'Grouped', aggregation = 'No_Aggregation', target_metric = 'accuracy')"
   ]
  },
  {
   "cell_type": "markdown",
   "metadata": {},
   "source": [
    "## BART-large, Grouped"
   ]
  },
  {
   "cell_type": "code",
   "execution_count": 18,
   "metadata": {},
   "outputs": [
    {
     "name": "stdout",
     "output_type": "stream",
     "text": [
      "number                                     111\n",
      "value                                 0.952982\n",
      "params_attention_heads                       7\n",
      "params_attention_pooling_operation         min\n",
      "params_balanced_loss                     False\n",
      "params_batch_size                          188\n",
      "params_beta_0                         0.833149\n",
      "params_beta_1                         0.994217\n",
      "params_dropout_rate                   0.569644\n",
      "params_early_stopping_patience              13\n",
      "params_embedding_pooling_operation        mean\n",
      "params_epochs                               73\n",
      "params_epsilon                             0.0\n",
      "params_global_pooling                      max\n",
      "params_hidden_dimension                     49\n",
      "params_learning_rate                  0.001239\n",
      "params_number_of_hidden_layers               3\n",
      "params_plateau_divider                       4\n",
      "params_plateau_patience                     20\n",
      "params_threshold                      0.603626\n",
      "params_weight_decay                   0.000005\n",
      "user_attrs_epoch                          12.0\n",
      "user_attrs_training_loss              0.134922\n",
      "user_attrs_validation_loss            0.160899\n",
      "Name: 111, dtype: object\n",
      "111\n",
      "Accuracy: 94.70 ± 0.39 , 95.39\n"
     ]
    }
   ],
   "source": [
    "get_best_results(dataset = 'SST-2', gnn = 'GATv2', llm = 'facebook-bart-large', method = 'Grouped', aggregation = 'No_Aggregation', target_metric = 'accuracy')"
   ]
  },
  {
   "cell_type": "code",
   "execution_count": 19,
   "metadata": {},
   "outputs": [
    {
     "name": "stdout",
     "output_type": "stream",
     "text": [
      "number                                     184\n",
      "value                                 0.676073\n",
      "params_attention_heads                       9\n",
      "params_attention_pooling_operation         max\n",
      "params_balanced_loss                     False\n",
      "params_batch_size                           75\n",
      "params_beta_0                         0.825653\n",
      "params_beta_1                         0.989955\n",
      "params_dropout_rate                   0.468633\n",
      "params_early_stopping_patience              25\n",
      "params_embedding_pooling_operation        mean\n",
      "params_epochs                              133\n",
      "params_epsilon                        0.000007\n",
      "params_global_pooling                     mean\n",
      "params_hidden_dimension                    241\n",
      "params_learning_rate                  0.001416\n",
      "params_left_stride                          64\n",
      "params_number_of_hidden_layers               1\n",
      "params_plateau_divider                       2\n",
      "params_plateau_patience                     21\n",
      "params_right_stride                         64\n",
      "params_threshold                      0.889482\n",
      "params_weight_decay                   0.000001\n",
      "user_attrs_epoch                          32.0\n",
      "user_attrs_training_loss              0.011951\n",
      "user_attrs_validation_loss            1.910406\n",
      "Name: 184, dtype: object\n",
      "184\n",
      "Accuracy: 73.55 ± 0.61 , 74.15\n"
     ]
    }
   ],
   "source": [
    "get_best_results(dataset = 'Ohsumed', gnn = 'GATv2', llm = 'facebook-bart-large', method = 'Grouped', aggregation = 'No_Aggregation', target_metric = 'accuracy')"
   ]
  },
  {
   "cell_type": "code",
   "execution_count": 22,
   "metadata": {},
   "outputs": [
    {
     "name": "stdout",
     "output_type": "stream",
     "text": [
      "number                                     255\n",
      "value                                 0.980578\n",
      "params_attention_heads                      16\n",
      "params_attention_pooling_operation        mean\n",
      "params_balanced_loss                      True\n",
      "params_batch_size                           54\n",
      "params_beta_0                         0.885474\n",
      "params_beta_1                         0.983331\n",
      "params_dropout_rate                   0.575229\n",
      "params_early_stopping_patience              20\n",
      "params_embedding_pooling_operation         max\n",
      "params_epochs                              144\n",
      "params_epsilon                        0.000001\n",
      "params_global_pooling                      max\n",
      "params_hidden_dimension                     77\n",
      "params_learning_rate                  0.000019\n",
      "params_left_stride                          64\n",
      "params_number_of_hidden_layers               3\n",
      "params_plateau_divider                       7\n",
      "params_plateau_patience                     19\n",
      "params_right_stride                        128\n",
      "params_threshold                      0.725379\n",
      "params_weight_decay                   0.000211\n",
      "user_attrs_epoch                          94.0\n",
      "user_attrs_training_loss              0.048897\n",
      "user_attrs_validation_loss            0.093359\n",
      "Name: 255, dtype: object\n",
      "number                                     213\n",
      "value                                 0.980327\n",
      "params_attention_heads                      16\n",
      "params_attention_pooling_operation        mean\n",
      "params_balanced_loss                      True\n",
      "params_batch_size                           37\n",
      "params_beta_0                         0.885745\n",
      "params_beta_1                         0.989606\n",
      "params_dropout_rate                   0.580391\n",
      "params_early_stopping_patience              20\n",
      "params_embedding_pooling_operation         max\n",
      "params_epochs                              111\n",
      "params_epsilon                        0.000043\n",
      "params_global_pooling                      max\n",
      "params_hidden_dimension                     91\n",
      "params_learning_rate                  0.000046\n",
      "params_left_stride                          64\n",
      "params_number_of_hidden_layers               3\n",
      "params_plateau_divider                       7\n",
      "params_plateau_patience                     19\n",
      "params_right_stride                        128\n",
      "params_threshold                      0.719007\n",
      "params_weight_decay                   0.000194\n",
      "user_attrs_epoch                          39.0\n",
      "user_attrs_training_loss              0.058185\n",
      "user_attrs_validation_loss             0.10532\n",
      "Name: 213, dtype: object\n",
      "number                                     246\n",
      "value                                 0.977738\n",
      "params_attention_heads                      15\n",
      "params_attention_pooling_operation        mean\n",
      "params_balanced_loss                      True\n",
      "params_batch_size                           45\n",
      "params_beta_0                         0.884679\n",
      "params_beta_1                         0.992307\n",
      "params_dropout_rate                   0.554729\n",
      "params_early_stopping_patience              21\n",
      "params_embedding_pooling_operation         max\n",
      "params_epochs                              142\n",
      "params_epsilon                        0.000069\n",
      "params_global_pooling                      max\n",
      "params_hidden_dimension                     76\n",
      "params_learning_rate                   0.00002\n",
      "params_left_stride                          64\n",
      "params_number_of_hidden_layers               3\n",
      "params_plateau_divider                       7\n",
      "params_plateau_patience                     19\n",
      "params_right_stride                        128\n",
      "params_threshold                      0.718158\n",
      "params_weight_decay                    0.00038\n",
      "user_attrs_epoch                         112.0\n",
      "user_attrs_training_loss              0.037825\n",
      "user_attrs_validation_loss             0.10013\n",
      "Name: 246, dtype: object\n",
      "246\n",
      "Accuracy: 97.39 ± 0.16 , 97.62\n"
     ]
    }
   ],
   "source": [
    "get_best_results(dataset = 'R8', gnn = 'GATv2', llm = 'facebook-bart-large', method = 'Grouped', aggregation = 'No_Aggregation', target_metric = 'accuracy')"
   ]
  },
  {
   "cell_type": "code",
   "execution_count": 24,
   "metadata": {},
   "outputs": [
    {
     "name": "stdout",
     "output_type": "stream",
     "text": [
      "number                                     168\n",
      "value                                 0.911392\n",
      "params_attention_heads                       7\n",
      "params_attention_pooling_operation         max\n",
      "params_balanced_loss                     False\n",
      "params_batch_size                          169\n",
      "params_beta_0                         0.811166\n",
      "params_beta_1                         0.989678\n",
      "params_dropout_rate                   0.539217\n",
      "params_early_stopping_patience              23\n",
      "params_embedding_pooling_operation         max\n",
      "params_epochs                              121\n",
      "params_epsilon                        0.000002\n",
      "params_global_pooling                      max\n",
      "params_hidden_dimension                    140\n",
      "params_learning_rate                  0.000214\n",
      "params_number_of_hidden_layers               0\n",
      "params_plateau_divider                       7\n",
      "params_plateau_patience                     25\n",
      "params_threshold                       0.59677\n",
      "params_weight_decay                   0.000338\n",
      "user_attrs_epoch                          35.0\n",
      "user_attrs_training_loss              0.138538\n",
      "user_attrs_validation_loss            0.271559\n",
      "Name: 168, dtype: object\n",
      "168\n",
      "Accuracy: 90.28 ± 0.17 , 90.52\n"
     ]
    }
   ],
   "source": [
    "get_best_results(dataset = 'RTSP', gnn = 'GATv2', llm = 'facebook-bart-large', method = 'Grouped', aggregation = 'No_Aggregation', target_metric = 'accuracy')"
   ]
  },
  {
   "cell_type": "markdown",
   "metadata": {},
   "source": [
    "## BART-large, Surrogate"
   ]
  },
  {
   "cell_type": "code",
   "execution_count": 25,
   "metadata": {},
   "outputs": [
    {
     "name": "stdout",
     "output_type": "stream",
     "text": [
      "number                                     126\n",
      "value                                 0.952982\n",
      "params_attention_heads                       6\n",
      "params_attention_pooling_operation         min\n",
      "params_balanced_loss                     False\n",
      "params_batch_size                          201\n",
      "params_beta_0                         0.880565\n",
      "params_beta_1                         0.983501\n",
      "params_dropout_rate                   0.544881\n",
      "params_early_stopping_patience              21\n",
      "params_embedding_pooling_operation         min\n",
      "params_epochs                              192\n",
      "params_epsilon                        0.000007\n",
      "params_global_pooling                      max\n",
      "params_hidden_dimension                    125\n",
      "params_learning_rate                  0.007342\n",
      "params_number_of_hidden_layers               1\n",
      "params_plateau_divider                       2\n",
      "params_plateau_patience                     13\n",
      "params_threshold                      0.564438\n",
      "params_weight_decay                   0.000143\n",
      "user_attrs_epoch                          16.0\n",
      "user_attrs_training_loss               0.11571\n",
      "user_attrs_validation_loss            0.145618\n",
      "Name: 126, dtype: object\n",
      "126\n",
      "Accuracy: 94.81 ± 0.37 , 95.33\n"
     ]
    }
   ],
   "source": [
    "get_best_results(dataset = 'SST-2', gnn = 'GATv2', llm = 'facebook-bart-large', method = 'Surrogate', aggregation = 'No_Aggregation', target_metric = 'accuracy')"
   ]
  },
  {
   "cell_type": "code",
   "execution_count": 26,
   "metadata": {},
   "outputs": [
    {
     "name": "stdout",
     "output_type": "stream",
     "text": [
      "number                                     320\n",
      "value                                  0.66319\n",
      "params_attention_heads                       5\n",
      "params_attention_pooling_operation         min\n",
      "params_balanced_loss                     False\n",
      "params_batch_size                           37\n",
      "params_beta_0                         0.877274\n",
      "params_beta_1                         0.984732\n",
      "params_dropout_rate                   0.397249\n",
      "params_early_stopping_patience              25\n",
      "params_embedding_pooling_operation         max\n",
      "params_epochs                              191\n",
      "params_epsilon                        0.000054\n",
      "params_global_pooling                      max\n",
      "params_hidden_dimension                    184\n",
      "params_learning_rate                  0.000789\n",
      "params_left_stride                         256\n",
      "params_number_of_hidden_layers               0\n",
      "params_plateau_divider                      10\n",
      "params_plateau_patience                     17\n",
      "params_right_stride                        128\n",
      "params_threshold                      0.952459\n",
      "params_weight_decay                   0.000328\n",
      "user_attrs_epoch                          19.0\n",
      "user_attrs_training_loss              0.043031\n",
      "user_attrs_validation_loss            1.033865\n",
      "Name: 320, dtype: object\n",
      "320\n",
      "Accuracy: 73.85 ± 0.37 , 74.33\n"
     ]
    }
   ],
   "source": [
    "get_best_results(dataset = 'Ohsumed', gnn = 'GATv2', llm = 'facebook-bart-large', method = 'Surrogate', aggregation = 'No_Aggregation', target_metric = 'accuracy')"
   ]
  },
  {
   "cell_type": "code",
   "execution_count": 27,
   "metadata": {},
   "outputs": [
    {
     "name": "stdout",
     "output_type": "stream",
     "text": [
      "number                                     240\n",
      "value                                 0.972184\n",
      "params_attention_heads                      15\n",
      "params_attention_pooling_operation         min\n",
      "params_balanced_loss                     False\n",
      "params_batch_size                          117\n",
      "params_beta_0                         0.875911\n",
      "params_beta_1                         0.981982\n",
      "params_dropout_rate                   0.337905\n",
      "params_early_stopping_patience              24\n",
      "params_embedding_pooling_operation        mean\n",
      "params_epochs                              116\n",
      "params_epsilon                        0.000058\n",
      "params_global_pooling                      max\n",
      "params_hidden_dimension                    175\n",
      "params_learning_rate                  0.000194\n",
      "params_left_stride                          64\n",
      "params_number_of_hidden_layers               0\n",
      "params_plateau_divider                       3\n",
      "params_plateau_patience                     24\n",
      "params_right_stride                        128\n",
      "params_threshold                       0.96159\n",
      "params_weight_decay                   0.000546\n",
      "user_attrs_epoch                          20.0\n",
      "user_attrs_training_loss              0.026221\n",
      "user_attrs_validation_loss              0.0723\n",
      "Name: 240, dtype: object\n",
      "240\n",
      "Accuracy: 98.32 ± 0.08 , 98.49\n"
     ]
    }
   ],
   "source": [
    "get_best_results(dataset = 'R8', gnn = 'GATv2', llm = 'facebook-bart-large', method = 'Surrogate', aggregation = 'No_Aggregation', target_metric = 'accuracy')"
   ]
  },
  {
   "cell_type": "code",
   "execution_count": 28,
   "metadata": {},
   "outputs": [
    {
     "name": "stdout",
     "output_type": "stream",
     "text": [
      "number                                      30\n",
      "value                                 0.908579\n",
      "params_attention_heads                      15\n",
      "params_attention_pooling_operation        mean\n",
      "params_balanced_loss                     False\n",
      "params_batch_size                          213\n",
      "params_beta_0                         0.824868\n",
      "params_beta_1                         0.981183\n",
      "params_dropout_rate                   0.346246\n",
      "params_early_stopping_patience              24\n",
      "params_embedding_pooling_operation         min\n",
      "params_epochs                               81\n",
      "params_epsilon                        0.000003\n",
      "params_global_pooling                     mean\n",
      "params_hidden_dimension                    194\n",
      "params_learning_rate                  0.004083\n",
      "params_number_of_hidden_layers               2\n",
      "params_plateau_divider                       4\n",
      "params_plateau_patience                     16\n",
      "params_threshold                      0.614091\n",
      "params_weight_decay                   0.000158\n",
      "user_attrs_epoch                           6.0\n",
      "user_attrs_training_loss              0.198896\n",
      "user_attrs_validation_loss            0.258585\n",
      "Name: 30, dtype: object\n",
      "30\n",
      "Accuracy: 89.81 ± 0.25 , 90.15\n"
     ]
    }
   ],
   "source": [
    "get_best_results(dataset = 'RTSP', gnn = 'GATv2', llm = 'facebook-bart-large', method = 'Surrogate', aggregation = 'No_Aggregation', target_metric = 'accuracy')"
   ]
  },
  {
   "cell_type": "markdown",
   "metadata": {},
   "source": [
    "## RoBERTa-base, Grouped"
   ]
  },
  {
   "cell_type": "code",
   "execution_count": 29,
   "metadata": {},
   "outputs": [
    {
     "name": "stdout",
     "output_type": "stream",
     "text": [
      "number                                     104\n",
      "value                                 0.926606\n",
      "params_attention_heads                      13\n",
      "params_attention_pooling_operation        mean\n",
      "params_balanced_loss                      True\n",
      "params_batch_size                          197\n",
      "params_beta_0                         0.823075\n",
      "params_beta_1                         0.997793\n",
      "params_dropout_rate                   0.525168\n",
      "params_early_stopping_patience              11\n",
      "params_embedding_pooling_operation         max\n",
      "params_epochs                              178\n",
      "params_epsilon                        0.000029\n",
      "params_global_pooling                      max\n",
      "params_hidden_dimension                    162\n",
      "params_learning_rate                  0.001031\n",
      "params_number_of_hidden_layers               1\n",
      "params_plateau_divider                       9\n",
      "params_plateau_patience                     23\n",
      "params_threshold                      0.663891\n",
      "params_weight_decay                    0.00002\n",
      "user_attrs_epoch                          21.0\n",
      "user_attrs_training_loss              0.121462\n",
      "user_attrs_validation_loss            0.238358\n",
      "Name: 104, dtype: object\n",
      "104\n",
      "Accuracy: 92.27 ± 0.23 , 92.75\n"
     ]
    }
   ],
   "source": [
    "get_best_results(dataset = 'SST-2', gnn = 'GATv2', llm = 'FacebookAI-roberta-base', method = 'Grouped', aggregation = 'No_Aggregation', target_metric = 'accuracy')"
   ]
  },
  {
   "cell_type": "code",
   "execution_count": 30,
   "metadata": {},
   "outputs": [
    {
     "name": "stdout",
     "output_type": "stream",
     "text": [
      "number                                     134\n",
      "value                                 0.651157\n",
      "params_attention_heads                       7\n",
      "params_attention_pooling_operation         max\n",
      "params_balanced_loss                     False\n",
      "params_batch_size                           78\n",
      "params_beta_0                         0.899905\n",
      "params_beta_1                         0.990864\n",
      "params_dropout_rate                   0.432687\n",
      "params_early_stopping_patience              25\n",
      "params_embedding_pooling_operation         max\n",
      "params_epochs                               59\n",
      "params_epsilon                             0.0\n",
      "params_global_pooling                     mean\n",
      "params_hidden_dimension                     88\n",
      "params_learning_rate                   0.00312\n",
      "params_left_stride                          32\n",
      "params_number_of_hidden_layers               1\n",
      "params_plateau_divider                       5\n",
      "params_plateau_patience                     17\n",
      "params_right_stride                        128\n",
      "params_threshold                       0.83891\n",
      "params_weight_decay                    0.00007\n",
      "user_attrs_epoch                            33\n",
      "user_attrs_training_loss              0.021707\n",
      "user_attrs_validation_loss            1.821942\n",
      "Name: 134, dtype: object\n",
      "134\n",
      "Accuracy: 70.90 ± 0.74 , 71.80\n"
     ]
    }
   ],
   "source": [
    "get_best_results(dataset = 'Ohsumed', gnn = 'GATv2', llm = 'FacebookAI-roberta-base', method = 'Grouped', aggregation = 'No_Aggregation', target_metric = 'accuracy')"
   ]
  },
  {
   "cell_type": "code",
   "execution_count": 31,
   "metadata": {},
   "outputs": [
    {
     "name": "stdout",
     "output_type": "stream",
     "text": [
      "number                                     239\n",
      "value                                 0.960833\n",
      "params_attention_heads                       4\n",
      "params_attention_pooling_operation        mean\n",
      "params_balanced_loss                     False\n",
      "params_batch_size                          224\n",
      "params_beta_0                         0.817485\n",
      "params_beta_1                         0.982257\n",
      "params_dropout_rate                   0.343777\n",
      "params_early_stopping_patience              19\n",
      "params_embedding_pooling_operation        mean\n",
      "params_epochs                              156\n",
      "params_epsilon                        0.000046\n",
      "params_global_pooling                      max\n",
      "params_hidden_dimension                     89\n",
      "params_learning_rate                  0.000693\n",
      "params_left_stride                          32\n",
      "params_number_of_hidden_layers               0\n",
      "params_plateau_divider                      10\n",
      "params_plateau_patience                     16\n",
      "params_right_stride                        128\n",
      "params_threshold                      0.666984\n",
      "params_weight_decay                   0.000006\n",
      "user_attrs_epoch                          39.0\n",
      "user_attrs_training_loss              0.009795\n",
      "user_attrs_validation_loss            0.087547\n",
      "Name: 239, dtype: object\n",
      "239\n",
      "Accuracy: 97.75 ± 0.11 , 97.94\n"
     ]
    }
   ],
   "source": [
    "get_best_results(dataset = 'R8', gnn = 'GATv2', llm = 'FacebookAI-roberta-base', method = 'Grouped', aggregation = 'No_Aggregation', target_metric = 'accuracy')"
   ]
  },
  {
   "cell_type": "code",
   "execution_count": 32,
   "metadata": {},
   "outputs": [
    {
     "name": "stdout",
     "output_type": "stream",
     "text": [
      "number                                     229\n",
      "value                                 0.889592\n",
      "params_attention_heads                      15\n",
      "params_attention_pooling_operation        mean\n",
      "params_balanced_loss                     False\n",
      "params_batch_size                          110\n",
      "params_beta_0                         0.871269\n",
      "params_beta_1                          0.99861\n",
      "params_dropout_rate                   0.525269\n",
      "params_early_stopping_patience              15\n",
      "params_embedding_pooling_operation        mean\n",
      "params_epochs                              170\n",
      "params_epsilon                        0.000062\n",
      "params_global_pooling                      max\n",
      "params_hidden_dimension                     60\n",
      "params_learning_rate                   0.00072\n",
      "params_number_of_hidden_layers               1\n",
      "params_plateau_divider                      10\n",
      "params_plateau_patience                     24\n",
      "params_threshold                      0.826495\n",
      "params_weight_decay                   0.000054\n",
      "user_attrs_epoch                          22.0\n",
      "user_attrs_training_loss              0.214889\n",
      "user_attrs_validation_loss            0.314842\n",
      "Name: 229, dtype: object\n",
      "229\n",
      "Accuracy: 86.46 ± 0.32 , 86.94\n"
     ]
    }
   ],
   "source": [
    "get_best_results(dataset = 'RTSP', gnn = 'GATv2', llm = 'FacebookAI-roberta-base', method = 'Grouped', aggregation = 'No_Aggregation', target_metric = 'accuracy')"
   ]
  },
  {
   "cell_type": "markdown",
   "metadata": {},
   "source": [
    "## RoBERTa-large, Grouped"
   ]
  },
  {
   "cell_type": "code",
   "execution_count": 33,
   "metadata": {},
   "outputs": [
    {
     "name": "stdout",
     "output_type": "stream",
     "text": [
      "number                                      64\n",
      "value                                 0.938073\n",
      "params_attention_heads                      13\n",
      "params_attention_pooling_operation         max\n",
      "params_balanced_loss                      True\n",
      "params_batch_size                          148\n",
      "params_beta_0                         0.858116\n",
      "params_beta_1                           0.9938\n",
      "params_dropout_rate                   0.501638\n",
      "params_early_stopping_patience              24\n",
      "params_embedding_pooling_operation         min\n",
      "params_epochs                              137\n",
      "params_epsilon                        0.000001\n",
      "params_global_pooling                     mean\n",
      "params_hidden_dimension                    101\n",
      "params_learning_rate                  0.001318\n",
      "params_number_of_hidden_layers               2\n",
      "params_plateau_divider                       7\n",
      "params_plateau_patience                     21\n",
      "params_threshold                      0.855918\n",
      "params_weight_decay                   0.000004\n",
      "user_attrs_epoch                          18.0\n",
      "user_attrs_training_loss               0.13485\n",
      "user_attrs_validation_loss            0.202554\n",
      "Name: 64, dtype: object\n",
      "64\n",
      "Accuracy: 93.03 ± 0.40 , 93.47\n"
     ]
    }
   ],
   "source": [
    "get_best_results(dataset = 'SST-2', gnn = 'GATv2', llm = 'FacebookAI-roberta-large', method = 'Grouped', aggregation = 'No_Aggregation', target_metric = 'accuracy')"
   ]
  },
  {
   "cell_type": "code",
   "execution_count": 34,
   "metadata": {},
   "outputs": [
    {
     "name": "stdout",
     "output_type": "stream",
     "text": [
      "number                                     261\n",
      "value                                 0.662537\n",
      "params_attention_heads                      11\n",
      "params_attention_pooling_operation         max\n",
      "params_balanced_loss                     False\n",
      "params_batch_size                           36\n",
      "params_beta_0                         0.821725\n",
      "params_beta_1                         0.997318\n",
      "params_dropout_rate                   0.429354\n",
      "params_early_stopping_patience              16\n",
      "params_embedding_pooling_operation        mean\n",
      "params_epochs                               70\n",
      "params_epsilon                        0.000049\n",
      "params_global_pooling                      max\n",
      "params_hidden_dimension                    197\n",
      "params_learning_rate                  0.000426\n",
      "params_left_stride                          32\n",
      "params_number_of_hidden_layers               1\n",
      "params_plateau_divider                       9\n",
      "params_plateau_patience                     11\n",
      "params_right_stride                        256\n",
      "params_threshold                      0.912118\n",
      "params_weight_decay                   0.000001\n",
      "user_attrs_epoch                          18.0\n",
      "user_attrs_training_loss              0.143494\n",
      "user_attrs_validation_loss            1.244542\n",
      "Name: 261, dtype: object\n",
      "261\n",
      "Accuracy: 71.88 ± 1.79 , 73.68\n"
     ]
    }
   ],
   "source": [
    "get_best_results(dataset = 'Ohsumed', gnn = 'GATv2', llm = 'FacebookAI-roberta-large', method = 'Grouped', aggregation = 'No_Aggregation', target_metric = 'accuracy')"
   ]
  },
  {
   "cell_type": "code",
   "execution_count": 35,
   "metadata": {},
   "outputs": [
    {
     "name": "stdout",
     "output_type": "stream",
     "text": [
      "number                                     176\n",
      "value                                 0.970023\n",
      "params_attention_heads                       4\n",
      "params_attention_pooling_operation         max\n",
      "params_balanced_loss                     False\n",
      "params_batch_size                          156\n",
      "params_beta_0                         0.865683\n",
      "params_beta_1                         0.991509\n",
      "params_dropout_rate                   0.527537\n",
      "params_early_stopping_patience              16\n",
      "params_embedding_pooling_operation         max\n",
      "params_epochs                              198\n",
      "params_epsilon                             0.0\n",
      "params_global_pooling                     mean\n",
      "params_hidden_dimension                    248\n",
      "params_learning_rate                  0.000936\n",
      "params_left_stride                         256\n",
      "params_number_of_hidden_layers               0\n",
      "params_plateau_divider                       6\n",
      "params_plateau_patience                     15\n",
      "params_right_stride                        128\n",
      "params_threshold                      0.837045\n",
      "params_weight_decay                   0.000186\n",
      "user_attrs_epoch                          26.0\n",
      "user_attrs_training_loss              0.017481\n",
      "user_attrs_validation_loss            0.146467\n",
      "Name: 176, dtype: object\n",
      "176\n",
      "Accuracy: 97.69 ± 0.21 , 97.99\n"
     ]
    }
   ],
   "source": [
    "get_best_results(dataset = 'R8', gnn = 'GATv2', llm = 'FacebookAI-roberta-large', method = 'Grouped', aggregation = 'No_Aggregation', target_metric = 'accuracy')"
   ]
  },
  {
   "cell_type": "code",
   "execution_count": 36,
   "metadata": {},
   "outputs": [
    {
     "name": "stdout",
     "output_type": "stream",
     "text": [
      "number                                     113\n",
      "value                                 0.890295\n",
      "params_attention_heads                       4\n",
      "params_attention_pooling_operation         max\n",
      "params_balanced_loss                     False\n",
      "params_batch_size                           91\n",
      "params_beta_0                         0.858962\n",
      "params_beta_1                         0.996739\n",
      "params_dropout_rate                   0.592596\n",
      "params_early_stopping_patience              12\n",
      "params_embedding_pooling_operation         min\n",
      "params_epochs                              191\n",
      "params_epsilon                        0.000046\n",
      "params_global_pooling                      max\n",
      "params_hidden_dimension                    107\n",
      "params_learning_rate                  0.000506\n",
      "params_number_of_hidden_layers               1\n",
      "params_plateau_divider                       3\n",
      "params_plateau_patience                     22\n",
      "params_threshold                      0.694255\n",
      "params_weight_decay                   0.000081\n",
      "user_attrs_epoch                          48.0\n",
      "user_attrs_training_loss              0.183235\n",
      "user_attrs_validation_loss            0.292145\n",
      "Name: 113, dtype: object\n",
      "113\n",
      "Accuracy: 88.08 ± 0.25 , 88.46\n"
     ]
    }
   ],
   "source": [
    "get_best_results(dataset = 'RTSP', gnn = 'GATv2', llm = 'FacebookAI-roberta-large', method = 'Grouped', aggregation = 'No_Aggregation', target_metric = 'accuracy')"
   ]
  },
  {
   "cell_type": "markdown",
   "metadata": {},
   "source": [
    "## RoBERTa-large, Surrogate"
   ]
  },
  {
   "cell_type": "code",
   "execution_count": 37,
   "metadata": {},
   "outputs": [
    {
     "name": "stdout",
     "output_type": "stream",
     "text": [
      "number                                     185\n",
      "value                                 0.942661\n",
      "params_attention_heads                       6\n",
      "params_attention_pooling_operation        mean\n",
      "params_balanced_loss                     False\n",
      "params_batch_size                          231\n",
      "params_beta_0                         0.879876\n",
      "params_beta_1                         0.988318\n",
      "params_dropout_rate                   0.428539\n",
      "params_early_stopping_patience              15\n",
      "params_embedding_pooling_operation         max\n",
      "params_epochs                              162\n",
      "params_epsilon                             0.0\n",
      "params_global_pooling                      sum\n",
      "params_hidden_dimension                    247\n",
      "params_learning_rate                  0.001466\n",
      "params_number_of_hidden_layers               4\n",
      "params_plateau_divider                       8\n",
      "params_plateau_patience                     11\n",
      "params_threshold                      0.547045\n",
      "params_weight_decay                   0.000711\n",
      "user_attrs_epoch                          46.0\n",
      "user_attrs_training_loss              0.020411\n",
      "user_attrs_validation_loss            0.436959\n",
      "Name: 185, dtype: object\n",
      "185\n",
      "Accuracy: 93.49 ± 0.76 , 94.56\n"
     ]
    }
   ],
   "source": [
    "get_best_results(dataset = 'SST-2', gnn = 'GATv2', llm = 'FacebookAI-roberta-large', method = 'Surrogate', aggregation = 'No_Aggregation', target_metric = 'accuracy')"
   ]
  },
  {
   "cell_type": "code",
   "execution_count": 38,
   "metadata": {},
   "outputs": [
    {
     "name": "stdout",
     "output_type": "stream",
     "text": [
      "number                                     225\n",
      "value                                 0.651142\n",
      "params_attention_heads                       5\n",
      "params_attention_pooling_operation         max\n",
      "params_balanced_loss                      True\n",
      "params_batch_size                           80\n",
      "params_beta_0                         0.867354\n",
      "params_beta_1                         0.992777\n",
      "params_dropout_rate                    0.32243\n",
      "params_early_stopping_patience              24\n",
      "params_embedding_pooling_operation         min\n",
      "params_epochs                              135\n",
      "params_epsilon                             0.0\n",
      "params_global_pooling                      max\n",
      "params_hidden_dimension                    236\n",
      "params_learning_rate                  0.001723\n",
      "params_left_stride                         128\n",
      "params_number_of_hidden_layers               0\n",
      "params_plateau_divider                       8\n",
      "params_plateau_patience                     15\n",
      "params_right_stride                        128\n",
      "params_threshold                       0.98208\n",
      "params_weight_decay                   0.000032\n",
      "user_attrs_epoch                          28.0\n",
      "user_attrs_training_loss              0.007662\n",
      "user_attrs_validation_loss            1.687156\n",
      "Name: 225, dtype: object\n",
      "225\n",
      "Accuracy: 71.18 ± 0.74 , 72.05\n"
     ]
    }
   ],
   "source": [
    "get_best_results(dataset = 'Ohsumed', gnn = 'GATv2', llm = 'FacebookAI-roberta-large', method = 'Surrogate', aggregation = 'No_Aggregation', target_metric = 'accuracy')"
   ]
  },
  {
   "cell_type": "code",
   "execution_count": 39,
   "metadata": {},
   "outputs": [
    {
     "name": "stdout",
     "output_type": "stream",
     "text": [
      "number                                     293\n",
      "value                                 0.971946\n",
      "params_attention_heads                       9\n",
      "params_attention_pooling_operation         max\n",
      "params_balanced_loss                     False\n",
      "params_batch_size                          143\n",
      "params_beta_0                         0.876479\n",
      "params_beta_1                          0.98383\n",
      "params_dropout_rate                   0.460693\n",
      "params_early_stopping_patience              25\n",
      "params_embedding_pooling_operation         min\n",
      "params_epochs                              114\n",
      "params_epsilon                             0.0\n",
      "params_global_pooling                      max\n",
      "params_hidden_dimension                    148\n",
      "params_learning_rate                   0.00032\n",
      "params_left_stride                         256\n",
      "params_number_of_hidden_layers               3\n",
      "params_plateau_divider                       3\n",
      "params_plateau_patience                     12\n",
      "params_right_stride                          0\n",
      "params_threshold                      0.975486\n",
      "params_weight_decay                   0.000002\n",
      "user_attrs_epoch                          42.0\n",
      "user_attrs_training_loss              0.010889\n",
      "user_attrs_validation_loss            0.081682\n",
      "Name: 293, dtype: object\n",
      "293\n",
      "Accuracy: 97.14 ± 0.24 , 97.53\n"
     ]
    }
   ],
   "source": [
    "get_best_results(dataset = 'R8', gnn = 'GATv2', llm = 'FacebookAI-roberta-large', method = 'Surrogate', aggregation = 'No_Aggregation', target_metric = 'accuracy')"
   ]
  },
  {
   "cell_type": "code",
   "execution_count": 40,
   "metadata": {},
   "outputs": [
    {
     "name": "stdout",
     "output_type": "stream",
     "text": [
      "number                                     197\n",
      "value                                 0.888889\n",
      "params_attention_heads                      10\n",
      "params_attention_pooling_operation         max\n",
      "params_balanced_loss                     False\n",
      "params_batch_size                          107\n",
      "params_beta_0                         0.834248\n",
      "params_beta_1                         0.986524\n",
      "params_dropout_rate                   0.459045\n",
      "params_early_stopping_patience              15\n",
      "params_embedding_pooling_operation        mean\n",
      "params_epochs                              179\n",
      "params_epsilon                             0.0\n",
      "params_global_pooling                      max\n",
      "params_hidden_dimension                    122\n",
      "params_learning_rate                  0.001585\n",
      "params_number_of_hidden_layers               1\n",
      "params_plateau_divider                       2\n",
      "params_plateau_patience                     13\n",
      "params_threshold                      0.767328\n",
      "params_weight_decay                   0.000013\n",
      "user_attrs_epoch                           7.0\n",
      "user_attrs_training_loss              0.283804\n",
      "user_attrs_validation_loss            0.319861\n",
      "Name: 197, dtype: object\n",
      "197\n",
      "Accuracy: 88.15 ± 0.50 , 88.75\n"
     ]
    }
   ],
   "source": [
    "get_best_results(dataset = 'RTSP', gnn = 'GATv2', llm = 'FacebookAI-roberta-large', method = 'Surrogate', aggregation = 'No_Aggregation', target_metric = 'accuracy')"
   ]
  }
 ],
 "metadata": {
  "kernelspec": {
   "display_name": "Python 3",
   "language": "python",
   "name": "python3"
  },
  "language_info": {
   "codemirror_mode": {
    "name": "ipython",
    "version": 3
   },
   "file_extension": ".py",
   "mimetype": "text/x-python",
   "name": "python",
   "nbconvert_exporter": "python",
   "pygments_lexer": "ipython3",
   "version": "3.10.16"
  }
 },
 "nbformat": 4,
 "nbformat_minor": 2
}
