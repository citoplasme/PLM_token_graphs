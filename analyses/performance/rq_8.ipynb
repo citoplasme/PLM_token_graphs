{
 "cells": [
  {
   "cell_type": "code",
   "execution_count": 1,
   "metadata": {},
   "outputs": [
    {
     "name": "stderr",
     "output_type": "stream",
     "text": [
      "/opt/homebrew/lib/python3.10/site-packages/tqdm/auto.py:22: TqdmWarning: IProgress not found. Please update jupyter and ipywidgets. See https://ipywidgets.readthedocs.io/en/stable/user_install.html\n",
      "  from .autonotebook import tqdm as notebook_tqdm\n"
     ]
    }
   ],
   "source": [
    "import os\n",
    "import pandas as pd\n",
    "import numpy as np\n",
    "import optuna\n",
    "import sklearn.metrics\n",
    "import warnings\n",
    "warnings.filterwarnings('ignore')"
   ]
  },
  {
   "cell_type": "code",
   "execution_count": 2,
   "metadata": {},
   "outputs": [],
   "source": [
    "TRIALS = 250\n",
    "TOP_N = 1"
   ]
  },
  {
   "cell_type": "code",
   "execution_count": 3,
   "metadata": {},
   "outputs": [],
   "source": [
    "def load_performance_metrics_sliding_windows(dataset, gnn, llm, method, display_information = False):\n",
    "  \n",
    "  study_name = f'{dataset}-{gnn}-{llm.replace(\"/\", \"-\")}-{method}-Sliding_Windows'\n",
    "  storage = f'sqlite:///../../sliding_windows/optuna_studies/{study_name}.db'\n",
    "  study = optuna.load_study(study_name = study_name, storage = storage)\n",
    "  \n",
    "  study_df = study.trials_dataframe()\n",
    "\n",
    "  study_df = study_df[study_df['value'] >= 0.0].sort_values(by = 'number', ascending = True)\n",
    "  columns = ['number', 'value'] + [x for x in study_df.columns if x.startswith('params_')] + [x for x in study_df.columns if x.startswith('user_attrs_')]\n",
    "\n",
    "  top_trials = study_df[columns].head(TRIALS).sort_values(by = ['value', 'user_attrs_validation_loss', 'user_attrs_training_loss'], ascending = [False, True, True]).head(TOP_N)# .head(3) for R8, BART-large due to exceptions\n",
    "  \n",
    "  performance = list()\n",
    "  for _, row in top_trials.iterrows():\n",
    "    \n",
    "    if display_information:\n",
    "      print(row)\n",
    "    trial = row['number']\n",
    "\n",
    "    for random_state in [x for x in os.listdir(f'../../sliding_window_outputs/{dataset}-{gnn}-{llm}/{method}/Sliding_Windows/{trial}') if os.path.isdir(f'../../sliding_window_outputs/{dataset}-{gnn}-{llm}/{method}/Sliding_Windows/{trial}/{x}')]:\n",
    "      df = pd.read_csv(f'../../sliding_window_outputs/{dataset}-{gnn}-{llm}/{method}/Sliding_Windows/{trial}/{random_state}/predictions.csv')\n",
    "      for split in ['validation', 'test']:\n",
    "        df_split = df[df['split'] == split]\n",
    "        accuracy = sklearn.metrics.accuracy_score(df_split['real'], df_split['prediction'])\n",
    "        f1_score = sklearn.metrics.f1_score(df_split['real'], df_split['prediction'], average = 'macro')\n",
    "        precision = sklearn.metrics.precision_score(df_split['real'], df_split['prediction'], average = 'macro')\n",
    "        recall = sklearn.metrics.recall_score(df_split['real'], df_split['prediction'], average = 'macro')\n",
    "        performance.append((trial, random_state, split, accuracy, f1_score, precision, recall))\n",
    "  return pd.DataFrame(performance, columns = ['trial', 'random_state', 'split', 'accuracy', 'f1_score', 'precision', 'recall'])"
   ]
  },
  {
   "cell_type": "code",
   "execution_count": 4,
   "metadata": {},
   "outputs": [],
   "source": [
    "def remove_trials_with_exceptions(df):\n",
    "  return df.groupby(['trial']).filter(lambda x : len(x) >= 10 * 2).reset_index(drop = True)"
   ]
  },
  {
   "cell_type": "code",
   "execution_count": 5,
   "metadata": {},
   "outputs": [],
   "source": [
    "def get_best_results_sliding_windows(dataset, gnn, llm, method, target_metric):\n",
    "  df = load_performance_metrics_sliding_windows(dataset = dataset, gnn = gnn, llm = llm, method = method, display_information = True)\n",
    "  df = remove_trials_with_exceptions(df)\n",
    "  df_aggregated = df.groupby(['trial', 'split']).agg({\n",
    "    'accuracy' : ['mean', 'std', 'max'],\n",
    "    'f1_score' : ['mean', 'std'],\n",
    "    'precision' : ['mean', 'std'],\n",
    "    'recall' : ['mean', 'std'],\n",
    "  }).reset_index()\n",
    "  df_aggregated.columns = df_aggregated.columns.map('_'.join).str.strip('_')\n",
    "  \n",
    "  best_trial_number = df_aggregated.sort_values(by = ['split', f'{target_metric}_mean', f'{target_metric}_std'], ascending = [True, False, True]).reset_index(drop = True).iloc[0]['trial']\n",
    "\n",
    "  best_trial = df_aggregated[df_aggregated['trial'] == best_trial_number]\n",
    "\n",
    "  print(best_trial_number)\n",
    "  print('-' * 10, 'Validation', '-' * 10)\n",
    "\n",
    "  print(\n",
    "    'Accuracy:',\n",
    "    '{:.2f}'.format(np.round(best_trial[best_trial['split'] == 'validation']['accuracy_mean'].values[0] * 100, decimals = 2)),\n",
    "    '±',\n",
    "    '{:.2f}'.format(np.round(best_trial[best_trial['split'] == 'validation']['accuracy_std'].values[0] * 100, decimals = 2))\n",
    "  )\n",
    "  print(\n",
    "    'F1-score:',\n",
    "    '{:.2f}'.format(np.round(best_trial[best_trial['split'] == 'validation']['f1_score_mean'].values[0] * 100, decimals = 2)),\n",
    "    '±',\n",
    "    '{:.2f}'.format(np.round(best_trial[best_trial['split'] == 'validation']['f1_score_std'].values[0] * 100, decimals = 2))\n",
    "  )\n",
    "  print(\n",
    "    'Precision:',\n",
    "    '{:.2f}'.format(np.round(best_trial[best_trial['split'] == 'validation']['precision_mean'].values[0] * 100, decimals = 2)),\n",
    "    '±',\n",
    "    '{:.2f}'.format(np.round(best_trial[best_trial['split'] == 'validation']['precision_std'].values[0] * 100, decimals = 2))\n",
    "  )\n",
    "  print(\n",
    "    'Recall:',\n",
    "    '{:.2f}'.format(np.round(best_trial[best_trial['split'] == 'validation']['recall_mean'].values[0] * 100, decimals = 2)),\n",
    "    '±',\n",
    "    '{:.2f}'.format(np.round(best_trial[best_trial['split'] == 'validation']['recall_std'].values[0] * 100, decimals = 2))\n",
    "  )\n",
    "\n",
    "  print('-' * 10, 'Test', '-' * 10)\n",
    "\n",
    "  print(\n",
    "    'Accuracy:',\n",
    "    '{:.2f}'.format(np.round(best_trial[best_trial['split'] == 'test']['accuracy_mean'].values[0] * 100, decimals = 2)),\n",
    "    '±', \n",
    "    '{:.2f}'.format(np.round(best_trial[best_trial['split'] == 'test']['accuracy_std'].values[0] * 100, decimals = 2))\n",
    "  )\n",
    "  print(\n",
    "    'F1-score:',\n",
    "    '{:.2f}'.format(np.round(best_trial[best_trial['split'] == 'test']['f1_score_mean'].values[0] * 100, decimals = 2)),\n",
    "    '±',\n",
    "    '{:.2f}'.format(np.round(best_trial[best_trial['split'] == 'test']['f1_score_std'].values[0] * 100, decimals = 2))\n",
    "  )\n",
    "  print(\n",
    "    'Precision:',\n",
    "    '{:.2f}'.format(np.round(best_trial[best_trial['split'] == 'test']['precision_mean'].values[0] * 100, decimals = 2)),\n",
    "    '±',\n",
    "    '{:.2f}'.format(np.round(best_trial[best_trial['split'] == 'test']['precision_std'].values[0] * 100, decimals = 2))\n",
    "  )\n",
    "  print(\n",
    "    'Recall:',\n",
    "    '{:.2f}'.format(np.round(best_trial[best_trial['split'] == 'test']['recall_mean'].values[0] * 100, decimals = 2)),\n",
    "    '±',\n",
    "    '{:.2f}'.format(np.round(best_trial[best_trial['split'] == 'test']['recall_std'].values[0] * 100, decimals = 2))\n",
    "  )"
   ]
  },
  {
   "cell_type": "markdown",
   "metadata": {},
   "source": [
    "## SST-2"
   ]
  },
  {
   "cell_type": "code",
   "execution_count": 6,
   "metadata": {},
   "outputs": [
    {
     "name": "stdout",
     "output_type": "stream",
     "text": [
      "number                                         121\n",
      "value                                     0.954128\n",
      "params_attention_heads                           9\n",
      "params_balanced_loss                          True\n",
      "params_batch_size                              178\n",
      "params_beta_0                             0.836063\n",
      "params_beta_1                             0.990599\n",
      "params_co_occurrence_pooling_operation         sum\n",
      "params_dropout_rate                        0.56877\n",
      "params_early_stopping_patience                  21\n",
      "params_embedding_pooling_operation             min\n",
      "params_epochs                                  167\n",
      "params_epsilon                            0.000001\n",
      "params_global_pooling                          max\n",
      "params_hidden_dimension                        102\n",
      "params_learning_rate                      0.001089\n",
      "params_number_of_hidden_layers                   4\n",
      "params_plateau_divider                           4\n",
      "params_plateau_patience                         14\n",
      "params_weight_decay                       0.000001\n",
      "params_window_size                               7\n",
      "user_attrs_epoch                              10.0\n",
      "user_attrs_training_loss                  0.129325\n",
      "user_attrs_validation_loss                0.172803\n",
      "Name: 121, dtype: object\n",
      "121\n",
      "---------- Validation ----------\n",
      "Accuracy: 94.75 ± 0.37\n",
      "F1-score: 94.74 ± 0.37\n",
      "Precision: 94.79 ± 0.37\n",
      "Recall: 94.73 ± 0.37\n",
      "---------- Test ----------\n",
      "Accuracy: 94.72 ± 0.36\n",
      "F1-score: 94.72 ± 0.36\n",
      "Precision: 94.79 ± 0.32\n",
      "Recall: 94.72 ± 0.36\n"
     ]
    }
   ],
   "source": [
    "get_best_results_sliding_windows(\n",
    "  dataset = 'SST-2',\n",
    "  gnn = 'GATv2',\n",
    "  llm = 'facebook-bart-large',\n",
    "  method = 'Grouped',\n",
    "  target_metric = 'accuracy'\n",
    ")"
   ]
  },
  {
   "cell_type": "markdown",
   "metadata": {},
   "source": [
    "## Ohsumed"
   ]
  },
  {
   "cell_type": "code",
   "execution_count": 7,
   "metadata": {},
   "outputs": [
    {
     "name": "stdout",
     "output_type": "stream",
     "text": [
      "number                                          97\n",
      "value                                     0.675289\n",
      "params_attention_heads                           5\n",
      "params_balanced_loss                          True\n",
      "params_batch_size                              113\n",
      "params_beta_0                              0.85674\n",
      "params_beta_1                             0.998013\n",
      "params_co_occurrence_pooling_operation         sum\n",
      "params_dropout_rate                       0.558362\n",
      "params_early_stopping_patience                  15\n",
      "params_embedding_pooling_operation            mean\n",
      "params_epochs                                  193\n",
      "params_epsilon                                 0.0\n",
      "params_global_pooling                         mean\n",
      "params_hidden_dimension                        205\n",
      "params_learning_rate                       0.00185\n",
      "params_left_stride                              64\n",
      "params_number_of_hidden_layers                   1\n",
      "params_plateau_divider                           3\n",
      "params_plateau_patience                         15\n",
      "params_right_stride                            256\n",
      "params_weight_decay                       0.000784\n",
      "params_window_size                               9\n",
      "user_attrs_epoch                              21.0\n",
      "user_attrs_training_loss                  0.192162\n",
      "user_attrs_validation_loss                1.768842\n",
      "Name: 97, dtype: object\n",
      "97\n",
      "---------- Validation ----------\n",
      "Accuracy: 71.89 ± 0.63\n",
      "F1-score: 64.23 ± 1.09\n",
      "Precision: 64.02 ± 1.62\n",
      "Recall: 67.15 ± 1.81\n",
      "---------- Test ----------\n",
      "Accuracy: 71.55 ± 1.12\n",
      "F1-score: 65.36 ± 1.30\n",
      "Precision: 64.22 ± 1.86\n",
      "Recall: 68.58 ± 0.76\n"
     ]
    }
   ],
   "source": [
    "get_best_results_sliding_windows(\n",
    "  dataset = 'Ohsumed',\n",
    "  gnn = 'GATv2',\n",
    "  llm = 'facebook-bart-large',\n",
    "  method = 'Grouped',\n",
    "  target_metric = 'f1_score'\n",
    ")"
   ]
  },
  {
   "cell_type": "markdown",
   "metadata": {},
   "source": [
    "## R8"
   ]
  },
  {
   "cell_type": "code",
   "execution_count": 8,
   "metadata": {},
   "outputs": [
    {
     "name": "stdout",
     "output_type": "stream",
     "text": [
      "number                                         256\n",
      "value                                     0.975418\n",
      "params_attention_heads                          15\n",
      "params_balanced_loss                         False\n",
      "params_batch_size                              148\n",
      "params_beta_0                             0.804286\n",
      "params_beta_1                              0.99726\n",
      "params_co_occurrence_pooling_operation         sum\n",
      "params_dropout_rate                       0.574962\n",
      "params_early_stopping_patience                  18\n",
      "params_embedding_pooling_operation             max\n",
      "params_epochs                                  161\n",
      "params_epsilon                                 0.0\n",
      "params_global_pooling                         mean\n",
      "params_hidden_dimension                        218\n",
      "params_learning_rate                      0.000132\n",
      "params_left_stride                              64\n",
      "params_number_of_hidden_layers                   3\n",
      "params_plateau_divider                           3\n",
      "params_plateau_patience                         15\n",
      "params_right_stride                            128\n",
      "params_weight_decay                       0.000009\n",
      "params_window_size                               2\n",
      "user_attrs_epoch                              47.0\n",
      "user_attrs_training_loss                   0.02763\n",
      "user_attrs_validation_loss                0.104715\n",
      "Name: 256, dtype: object\n",
      "256\n",
      "---------- Validation ----------\n",
      "Accuracy: 98.37 ± 0.08\n",
      "F1-score: 96.86 ± 0.31\n",
      "Precision: 96.96 ± 0.36\n",
      "Recall: 96.80 ± 0.35\n",
      "---------- Test ----------\n",
      "Accuracy: 97.67 ± 0.18\n",
      "F1-score: 94.03 ± 0.40\n",
      "Precision: 94.82 ± 0.41\n",
      "Recall: 93.39 ± 0.52\n"
     ]
    }
   ],
   "source": [
    "get_best_results_sliding_windows(\n",
    "  dataset = 'R8',\n",
    "  gnn = 'GATv2',\n",
    "  llm = 'facebook-bart-large',\n",
    "  method = 'Grouped',\n",
    "  target_metric = 'f1_score'\n",
    ")"
   ]
  },
  {
   "cell_type": "markdown",
   "metadata": {},
   "source": [
    "## IMDb-1k"
   ]
  },
  {
   "cell_type": "code",
   "execution_count": 9,
   "metadata": {},
   "outputs": [
    {
     "name": "stdout",
     "output_type": "stream",
     "text": [
      "number                                         223\n",
      "value                                     0.957576\n",
      "params_attention_heads                           4\n",
      "params_balanced_loss                          True\n",
      "params_batch_size                               20\n",
      "params_beta_0                             0.824085\n",
      "params_beta_1                             0.989291\n",
      "params_co_occurrence_pooling_operation         sum\n",
      "params_dropout_rate                       0.525161\n",
      "params_early_stopping_patience                  19\n",
      "params_embedding_pooling_operation            mean\n",
      "params_epochs                                  134\n",
      "params_epsilon                            0.000095\n",
      "params_global_pooling                         mean\n",
      "params_hidden_dimension                        167\n",
      "params_learning_rate                      0.000025\n",
      "params_left_stride                              32\n",
      "params_number_of_hidden_layers                   4\n",
      "params_plateau_divider                           4\n",
      "params_plateau_patience                         24\n",
      "params_right_stride                            128\n",
      "params_weight_decay                        0.00005\n",
      "params_window_size                               7\n",
      "user_attrs_epoch                              57.0\n",
      "user_attrs_training_loss                  0.081617\n",
      "user_attrs_validation_loss                0.137412\n",
      "Name: 223, dtype: object\n",
      "223\n",
      "---------- Validation ----------\n",
      "Accuracy: 95.15 ± 0.40\n",
      "F1-score: 95.11 ± 0.41\n",
      "Precision: 95.35 ± 0.44\n",
      "Recall: 94.98 ± 0.40\n",
      "---------- Test ----------\n",
      "Accuracy: 94.45 ± 0.57\n",
      "F1-score: 94.44 ± 0.57\n",
      "Precision: 94.44 ± 0.55\n",
      "Recall: 94.61 ± 0.56\n"
     ]
    }
   ],
   "source": [
    "get_best_results_sliding_windows(\n",
    "  dataset = 'IMDb-top_1000',\n",
    "  gnn = 'GATv2',\n",
    "  llm = 'facebook-bart-large',\n",
    "  method = 'Grouped',\n",
    "  target_metric = 'accuracy'\n",
    ")"
   ]
  }
 ],
 "metadata": {
  "kernelspec": {
   "display_name": "Python 3",
   "language": "python",
   "name": "python3"
  },
  "language_info": {
   "codemirror_mode": {
    "name": "ipython",
    "version": 3
   },
   "file_extension": ".py",
   "mimetype": "text/x-python",
   "name": "python",
   "nbconvert_exporter": "python",
   "pygments_lexer": "ipython3",
   "version": "3.10.16"
  }
 },
 "nbformat": 4,
 "nbformat_minor": 2
}
