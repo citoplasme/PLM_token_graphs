{
 "cells": [
  {
   "cell_type": "code",
   "execution_count": 1,
   "metadata": {},
   "outputs": [],
   "source": [
    "import pandas as pd\n",
    "import numpy as np\n",
    "import plotnine as p9\n",
    "import warnings\n",
    "warnings.filterwarnings('ignore')"
   ]
  },
  {
   "cell_type": "code",
   "execution_count": 2,
   "metadata": {},
   "outputs": [],
   "source": [
    "df = pd.DataFrame({\n",
    "  'x' : np.random.normal(size = 1000),\n",
    "  'correct' : np.random.choice([True, False], size = 1000)\n",
    "})"
   ]
  },
  {
   "cell_type": "code",
   "execution_count": 3,
   "metadata": {},
   "outputs": [
    {
     "data": {
      "text/html": [
       "<div>\n",
       "<style scoped>\n",
       "    .dataframe tbody tr th:only-of-type {\n",
       "        vertical-align: middle;\n",
       "    }\n",
       "\n",
       "    .dataframe tbody tr th {\n",
       "        vertical-align: top;\n",
       "    }\n",
       "\n",
       "    .dataframe thead th {\n",
       "        text-align: right;\n",
       "    }\n",
       "</style>\n",
       "<table border=\"1\" class=\"dataframe\">\n",
       "  <thead>\n",
       "    <tr style=\"text-align: right;\">\n",
       "      <th></th>\n",
       "      <th>x</th>\n",
       "      <th>correct</th>\n",
       "    </tr>\n",
       "  </thead>\n",
       "  <tbody>\n",
       "    <tr>\n",
       "      <th>0</th>\n",
       "      <td>0.008337</td>\n",
       "      <td>True</td>\n",
       "    </tr>\n",
       "    <tr>\n",
       "      <th>1</th>\n",
       "      <td>-0.345206</td>\n",
       "      <td>False</td>\n",
       "    </tr>\n",
       "    <tr>\n",
       "      <th>2</th>\n",
       "      <td>-0.411485</td>\n",
       "      <td>False</td>\n",
       "    </tr>\n",
       "    <tr>\n",
       "      <th>3</th>\n",
       "      <td>0.662767</td>\n",
       "      <td>False</td>\n",
       "    </tr>\n",
       "    <tr>\n",
       "      <th>4</th>\n",
       "      <td>1.783039</td>\n",
       "      <td>True</td>\n",
       "    </tr>\n",
       "  </tbody>\n",
       "</table>\n",
       "</div>"
      ],
      "text/plain": [
       "          x  correct\n",
       "0  0.008337     True\n",
       "1 -0.345206    False\n",
       "2 -0.411485    False\n",
       "3  0.662767    False\n",
       "4  1.783039     True"
      ]
     },
     "execution_count": 3,
     "metadata": {},
     "output_type": "execute_result"
    }
   ],
   "source": [
    "df.head()"
   ]
  },
  {
   "cell_type": "code",
   "execution_count": 4,
   "metadata": {},
   "outputs": [],
   "source": [
    "df['q'], quantile_intervals = pd.qcut(df['x'], q = 5, labels = ['Very low', 'Low', 'Normal', 'High', 'Very high'], retbins = True)"
   ]
  },
  {
   "cell_type": "code",
   "execution_count": 5,
   "metadata": {},
   "outputs": [
    {
     "data": {
      "text/html": [
       "<div>\n",
       "<style scoped>\n",
       "    .dataframe tbody tr th:only-of-type {\n",
       "        vertical-align: middle;\n",
       "    }\n",
       "\n",
       "    .dataframe tbody tr th {\n",
       "        vertical-align: top;\n",
       "    }\n",
       "\n",
       "    .dataframe thead th {\n",
       "        text-align: right;\n",
       "    }\n",
       "</style>\n",
       "<table border=\"1\" class=\"dataframe\">\n",
       "  <thead>\n",
       "    <tr style=\"text-align: right;\">\n",
       "      <th></th>\n",
       "      <th>x</th>\n",
       "      <th>correct</th>\n",
       "      <th>q</th>\n",
       "    </tr>\n",
       "  </thead>\n",
       "  <tbody>\n",
       "    <tr>\n",
       "      <th>0</th>\n",
       "      <td>0.008337</td>\n",
       "      <td>True</td>\n",
       "      <td>Normal</td>\n",
       "    </tr>\n",
       "    <tr>\n",
       "      <th>1</th>\n",
       "      <td>-0.345206</td>\n",
       "      <td>False</td>\n",
       "      <td>Low</td>\n",
       "    </tr>\n",
       "    <tr>\n",
       "      <th>2</th>\n",
       "      <td>-0.411485</td>\n",
       "      <td>False</td>\n",
       "      <td>Low</td>\n",
       "    </tr>\n",
       "    <tr>\n",
       "      <th>3</th>\n",
       "      <td>0.662767</td>\n",
       "      <td>False</td>\n",
       "      <td>High</td>\n",
       "    </tr>\n",
       "    <tr>\n",
       "      <th>4</th>\n",
       "      <td>1.783039</td>\n",
       "      <td>True</td>\n",
       "      <td>Very high</td>\n",
       "    </tr>\n",
       "  </tbody>\n",
       "</table>\n",
       "</div>"
      ],
      "text/plain": [
       "          x  correct          q\n",
       "0  0.008337     True     Normal\n",
       "1 -0.345206    False        Low\n",
       "2 -0.411485    False        Low\n",
       "3  0.662767    False       High\n",
       "4  1.783039     True  Very high"
      ]
     },
     "execution_count": 5,
     "metadata": {},
     "output_type": "execute_result"
    }
   ],
   "source": [
    "df.head()"
   ]
  },
  {
   "cell_type": "code",
   "execution_count": 6,
   "metadata": {},
   "outputs": [
    {
     "data": {
      "text/html": [
       "<div>\n",
       "<style scoped>\n",
       "    .dataframe tbody tr th:only-of-type {\n",
       "        vertical-align: middle;\n",
       "    }\n",
       "\n",
       "    .dataframe tbody tr th {\n",
       "        vertical-align: top;\n",
       "    }\n",
       "\n",
       "    .dataframe thead th {\n",
       "        text-align: right;\n",
       "    }\n",
       "</style>\n",
       "<table border=\"1\" class=\"dataframe\">\n",
       "  <thead>\n",
       "    <tr style=\"text-align: right;\">\n",
       "      <th></th>\n",
       "      <th>q</th>\n",
       "      <th>correct</th>\n",
       "      <th>value</th>\n",
       "    </tr>\n",
       "  </thead>\n",
       "  <tbody>\n",
       "    <tr>\n",
       "      <th>0</th>\n",
       "      <td>Very low</td>\n",
       "      <td>False</td>\n",
       "      <td>0.490</td>\n",
       "    </tr>\n",
       "    <tr>\n",
       "      <th>1</th>\n",
       "      <td>Low</td>\n",
       "      <td>False</td>\n",
       "      <td>0.545</td>\n",
       "    </tr>\n",
       "    <tr>\n",
       "      <th>2</th>\n",
       "      <td>Normal</td>\n",
       "      <td>False</td>\n",
       "      <td>0.520</td>\n",
       "    </tr>\n",
       "    <tr>\n",
       "      <th>3</th>\n",
       "      <td>High</td>\n",
       "      <td>False</td>\n",
       "      <td>0.485</td>\n",
       "    </tr>\n",
       "    <tr>\n",
       "      <th>4</th>\n",
       "      <td>Very high</td>\n",
       "      <td>False</td>\n",
       "      <td>0.520</td>\n",
       "    </tr>\n",
       "    <tr>\n",
       "      <th>5</th>\n",
       "      <td>Very low</td>\n",
       "      <td>True</td>\n",
       "      <td>0.510</td>\n",
       "    </tr>\n",
       "    <tr>\n",
       "      <th>6</th>\n",
       "      <td>Low</td>\n",
       "      <td>True</td>\n",
       "      <td>0.455</td>\n",
       "    </tr>\n",
       "    <tr>\n",
       "      <th>7</th>\n",
       "      <td>Normal</td>\n",
       "      <td>True</td>\n",
       "      <td>0.480</td>\n",
       "    </tr>\n",
       "    <tr>\n",
       "      <th>8</th>\n",
       "      <td>High</td>\n",
       "      <td>True</td>\n",
       "      <td>0.515</td>\n",
       "    </tr>\n",
       "    <tr>\n",
       "      <th>9</th>\n",
       "      <td>Very high</td>\n",
       "      <td>True</td>\n",
       "      <td>0.480</td>\n",
       "    </tr>\n",
       "  </tbody>\n",
       "</table>\n",
       "</div>"
      ],
      "text/plain": [
       "           q correct  value\n",
       "0   Very low   False  0.490\n",
       "1        Low   False  0.545\n",
       "2     Normal   False  0.520\n",
       "3       High   False  0.485\n",
       "4  Very high   False  0.520\n",
       "5   Very low    True  0.510\n",
       "6        Low    True  0.455\n",
       "7     Normal    True  0.480\n",
       "8       High    True  0.515\n",
       "9  Very high    True  0.480"
      ]
     },
     "execution_count": 6,
     "metadata": {},
     "output_type": "execute_result"
    }
   ],
   "source": [
    "df.groupby('q')['correct'].value_counts(normalize = True).unstack().reset_index().melt(id_vars = ['q'])"
   ]
  },
  {
   "cell_type": "code",
   "execution_count": 7,
   "metadata": {},
   "outputs": [
    {
     "data": {
      "image/png": "[encoded data removed]",
      "text/plain": [
       "<Figure size 1600x900 with 1 Axes>"
      ]
     },
     "metadata": {},
     "output_type": "display_data"
    },
    {
     "data": {
      "text/plain": [
       "<ggplot: (381121003)>"
      ]
     },
     "execution_count": 7,
     "metadata": {},
     "output_type": "execute_result"
    }
   ],
   "source": [
    "p9.ggplot(\n",
    "  df.groupby('q')['correct'].value_counts(normalize = True).unstack().reset_index().melt(id_vars = ['q']),\n",
    "  p9.aes(x = 'q', y = 'value', fill = 'correct')\n",
    ") + p9.geom_col() + \\\n",
    "  p9.ylab('Percentage') + \\\n",
    "  p9.xlab('X') + \\\n",
    "  p9.labs(fill = 'Correctly classified?') + \\\n",
    "  p9.theme_gray() + \\\n",
    "  p9.theme(\n",
    "    legend_position = 'top',\n",
    "    figure_size = (16, 9),\n",
    "    text = p9.element_text(size = 12)\n",
    "  )"
   ]
  },
  {
   "cell_type": "code",
   "execution_count": 8,
   "metadata": {},
   "outputs": [
    {
     "data": {
      "text/html": [
       "<div>\n",
       "<style scoped>\n",
       "    .dataframe tbody tr th:only-of-type {\n",
       "        vertical-align: middle;\n",
       "    }\n",
       "\n",
       "    .dataframe tbody tr th {\n",
       "        vertical-align: top;\n",
       "    }\n",
       "\n",
       "    .dataframe thead th {\n",
       "        text-align: right;\n",
       "    }\n",
       "</style>\n",
       "<table border=\"1\" class=\"dataframe\">\n",
       "  <thead>\n",
       "    <tr style=\"text-align: right;\">\n",
       "      <th></th>\n",
       "      <th>correct</th>\n",
       "      <th>value</th>\n",
       "      <th>q</th>\n",
       "    </tr>\n",
       "  </thead>\n",
       "  <tbody>\n",
       "    <tr>\n",
       "      <th>0</th>\n",
       "      <td>False</td>\n",
       "      <td>0.512</td>\n",
       "      <td>All data</td>\n",
       "    </tr>\n",
       "    <tr>\n",
       "      <th>1</th>\n",
       "      <td>True</td>\n",
       "      <td>0.488</td>\n",
       "      <td>All data</td>\n",
       "    </tr>\n",
       "  </tbody>\n",
       "</table>\n",
       "</div>"
      ],
      "text/plain": [
       "   correct  value         q\n",
       "0    False  0.512  All data\n",
       "1     True  0.488  All data"
      ]
     },
     "execution_count": 8,
     "metadata": {},
     "output_type": "execute_result"
    }
   ],
   "source": [
    "df['correct'].value_counts(normalize = True).reset_index(name = 'value').rename(columns = {'index' : 'correct'}).assign(q = 'All data')"
   ]
  },
  {
   "cell_type": "code",
   "execution_count": 9,
   "metadata": {},
   "outputs": [],
   "source": [
    "all_data_df = df['correct'].value_counts(normalize = True).reset_index(name = 'value').rename(columns = {'index' : 'correct'}).assign(q = 'All data')\n",
    "quantile_df = df.groupby('q')['correct'].value_counts(normalize = True).unstack().reset_index().melt(id_vars = ['q'])"
   ]
  },
  {
   "cell_type": "code",
   "execution_count": 10,
   "metadata": {},
   "outputs": [],
   "source": [
    "plot_df = pd.concat([all_data_df, quantile_df])\n",
    "plot_df['q'] = pd.Categorical(plot_df['q'], categories = ['Very low', 'Low', 'Normal', 'High', 'Very high', 'All data'])"
   ]
  },
  {
   "cell_type": "code",
   "execution_count": 11,
   "metadata": {},
   "outputs": [
    {
     "data": {
      "image/png": "[encoded data removed]",
      "text/plain": [
       "<Figure size 1600x900 with 1 Axes>"
      ]
     },
     "metadata": {},
     "output_type": "display_data"
    },
    {
     "data": {
      "text/plain": [
       "<ggplot: (381242510)>"
      ]
     },
     "execution_count": 11,
     "metadata": {},
     "output_type": "execute_result"
    }
   ],
   "source": [
    "p9.ggplot(\n",
    "  plot_df,\n",
    "  p9.aes(x = 'q', y = 'value', fill = 'correct')\n",
    ") + \\\n",
    "  p9.geom_col() + \\\n",
    "  p9.geom_vline(xintercept = 5.5, linetype = 'dashed', size = 1.2) + \\\n",
    "  p9.ylab('Percentage') + \\\n",
    "  p9.xlab('X') + \\\n",
    "  p9.labs(fill = 'Correctly classified?') + \\\n",
    "  p9.theme_gray() + \\\n",
    "  p9.theme(\n",
    "    legend_position = 'top',\n",
    "    figure_size = (16, 9),\n",
    "    text = p9.element_text(size = 12)\n",
    "  )"
   ]
  },
  {
   "cell_type": "code",
   "execution_count": 12,
   "metadata": {},
   "outputs": [],
   "source": [
    "#subgroup_feature_conditions = '\\n'.join(error_rules.iloc[i]['feature_conditions']) + f'\\n{subgroup_values.shape[0]} instances\\n({np.round((subgroup_values.shape[0] / all_values.shape[0]) * 100, decimals = 3)}%)'\n"
   ]
  },
  {
   "cell_type": "code",
   "execution_count": 13,
   "metadata": {},
   "outputs": [
    {
     "data": {
      "text/plain": [
       "array([-3.17184953, -0.89442023, -0.22487792,  0.30841535,  0.8606453 ,\n",
       "        3.36538234])"
      ]
     },
     "execution_count": 13,
     "metadata": {},
     "output_type": "execute_result"
    }
   ],
   "source": [
    "quantile_intervals"
   ]
  },
  {
   "cell_type": "code",
   "execution_count": 14,
   "metadata": {},
   "outputs": [],
   "source": [
    "quantile_counts = df['q'].value_counts().reset_index(name = 'count').rename(columns = {'index' : 'q'}).set_index(keys = ['q']).to_dict(orient = 'index')"
   ]
  },
  {
   "cell_type": "code",
   "execution_count": 15,
   "metadata": {},
   "outputs": [
    {
     "data": {
      "text/plain": [
       "{'Very low': {'count': 200},\n",
       " 'Low': {'count': 200},\n",
       " 'Normal': {'count': 200},\n",
       " 'High': {'count': 200},\n",
       " 'Very high': {'count': 200}}"
      ]
     },
     "execution_count": 15,
     "metadata": {},
     "output_type": "execute_result"
    }
   ],
   "source": [
    "quantile_counts"
   ]
  },
  {
   "cell_type": "code",
   "execution_count": 16,
   "metadata": {},
   "outputs": [],
   "source": [
    "quantile_text_labels = ['Very low', 'Low', 'Normal', 'High', 'Very high']\n",
    "quantile_interval_labels = [f'({np.round(quantile_intervals[i], decimals = 3)}, {np.round(quantile_intervals[i + 1], decimals = 3)}]' for i in range(len(quantile_intervals) - 1)]\n",
    "quantile_labels = [f'{quantile_text_labels[i]}\\n{quantile_counts[quantile_text_labels[i]][\"count\"]} instances ({np.round((quantile_counts[quantile_text_labels[i]][\"count\"] / df.shape[0]) * 100, decimals = 3)}%)\\n{quantile_interval_labels[i]}' for i in range(len(quantile_text_labels))]"
   ]
  },
  {
   "cell_type": "code",
   "execution_count": 17,
   "metadata": {},
   "outputs": [
    {
     "data": {
      "text/html": [
       "<div>\n",
       "<style scoped>\n",
       "    .dataframe tbody tr th:only-of-type {\n",
       "        vertical-align: middle;\n",
       "    }\n",
       "\n",
       "    .dataframe tbody tr th {\n",
       "        vertical-align: top;\n",
       "    }\n",
       "\n",
       "    .dataframe thead th {\n",
       "        text-align: right;\n",
       "    }\n",
       "</style>\n",
       "<table border=\"1\" class=\"dataframe\">\n",
       "  <thead>\n",
       "    <tr style=\"text-align: right;\">\n",
       "      <th></th>\n",
       "      <th>q</th>\n",
       "      <th>correct</th>\n",
       "      <th>value</th>\n",
       "    </tr>\n",
       "  </thead>\n",
       "  <tbody>\n",
       "    <tr>\n",
       "      <th>0</th>\n",
       "      <td>Very low\\n200 instances (20.0%)\\n(-3.172, -0.894]</td>\n",
       "      <td>False</td>\n",
       "      <td>0.490</td>\n",
       "    </tr>\n",
       "    <tr>\n",
       "      <th>1</th>\n",
       "      <td>Low\\n200 instances (20.0%)\\n(-0.894, -0.225]</td>\n",
       "      <td>False</td>\n",
       "      <td>0.545</td>\n",
       "    </tr>\n",
       "    <tr>\n",
       "      <th>2</th>\n",
       "      <td>Normal\\n200 instances (20.0%)\\n(-0.225, 0.308]</td>\n",
       "      <td>False</td>\n",
       "      <td>0.520</td>\n",
       "    </tr>\n",
       "    <tr>\n",
       "      <th>3</th>\n",
       "      <td>High\\n200 instances (20.0%)\\n(0.308, 0.861]</td>\n",
       "      <td>False</td>\n",
       "      <td>0.485</td>\n",
       "    </tr>\n",
       "    <tr>\n",
       "      <th>4</th>\n",
       "      <td>Very high\\n200 instances (20.0%)\\n(0.861, 3.365]</td>\n",
       "      <td>False</td>\n",
       "      <td>0.520</td>\n",
       "    </tr>\n",
       "    <tr>\n",
       "      <th>5</th>\n",
       "      <td>Very low\\n200 instances (20.0%)\\n(-3.172, -0.894]</td>\n",
       "      <td>True</td>\n",
       "      <td>0.510</td>\n",
       "    </tr>\n",
       "    <tr>\n",
       "      <th>6</th>\n",
       "      <td>Low\\n200 instances (20.0%)\\n(-0.894, -0.225]</td>\n",
       "      <td>True</td>\n",
       "      <td>0.455</td>\n",
       "    </tr>\n",
       "    <tr>\n",
       "      <th>7</th>\n",
       "      <td>Normal\\n200 instances (20.0%)\\n(-0.225, 0.308]</td>\n",
       "      <td>True</td>\n",
       "      <td>0.480</td>\n",
       "    </tr>\n",
       "    <tr>\n",
       "      <th>8</th>\n",
       "      <td>High\\n200 instances (20.0%)\\n(0.308, 0.861]</td>\n",
       "      <td>True</td>\n",
       "      <td>0.515</td>\n",
       "    </tr>\n",
       "    <tr>\n",
       "      <th>9</th>\n",
       "      <td>Very high\\n200 instances (20.0%)\\n(0.861, 3.365]</td>\n",
       "      <td>True</td>\n",
       "      <td>0.480</td>\n",
       "    </tr>\n",
       "  </tbody>\n",
       "</table>\n",
       "</div>"
      ],
      "text/plain": [
       "                                                   q correct  value\n",
       "0  Very low\\n200 instances (20.0%)\\n(-3.172, -0.894]   False  0.490\n",
       "1       Low\\n200 instances (20.0%)\\n(-0.894, -0.225]   False  0.545\n",
       "2     Normal\\n200 instances (20.0%)\\n(-0.225, 0.308]   False  0.520\n",
       "3        High\\n200 instances (20.0%)\\n(0.308, 0.861]   False  0.485\n",
       "4   Very high\\n200 instances (20.0%)\\n(0.861, 3.365]   False  0.520\n",
       "5  Very low\\n200 instances (20.0%)\\n(-3.172, -0.894]    True  0.510\n",
       "6       Low\\n200 instances (20.0%)\\n(-0.894, -0.225]    True  0.455\n",
       "7     Normal\\n200 instances (20.0%)\\n(-0.225, 0.308]    True  0.480\n",
       "8        High\\n200 instances (20.0%)\\n(0.308, 0.861]    True  0.515\n",
       "9   Very high\\n200 instances (20.0%)\\n(0.861, 3.365]    True  0.480"
      ]
     },
     "execution_count": 17,
     "metadata": {},
     "output_type": "execute_result"
    }
   ],
   "source": [
    "# Add quantile_interval_labels to 'q' column\n",
    "quantile_df['q'] = pd.Categorical(quantile_df['q'], categories = ['Very low', 'Low', 'Normal', 'High', 'Very high'], ordered = True)\n",
    "quantile_df['q'] = quantile_df['q'].cat.rename_categories(quantile_labels)\n",
    "quantile_df"
   ]
  },
  {
   "cell_type": "code",
   "execution_count": 18,
   "metadata": {},
   "outputs": [],
   "source": [
    "all_data_df = df['correct'].value_counts(normalize = True).reset_index(name = 'value').rename(columns = {'index' : 'correct'}).assign(q = 'All data')"
   ]
  },
  {
   "cell_type": "code",
   "execution_count": 19,
   "metadata": {},
   "outputs": [],
   "source": [
    "all_data_df['q'] = f'All data\\n{df.shape[0]} instances (100%)'"
   ]
  },
  {
   "cell_type": "code",
   "execution_count": 20,
   "metadata": {},
   "outputs": [
    {
     "data": {
      "text/html": [
       "<div>\n",
       "<style scoped>\n",
       "    .dataframe tbody tr th:only-of-type {\n",
       "        vertical-align: middle;\n",
       "    }\n",
       "\n",
       "    .dataframe tbody tr th {\n",
       "        vertical-align: top;\n",
       "    }\n",
       "\n",
       "    .dataframe thead th {\n",
       "        text-align: right;\n",
       "    }\n",
       "</style>\n",
       "<table border=\"1\" class=\"dataframe\">\n",
       "  <thead>\n",
       "    <tr style=\"text-align: right;\">\n",
       "      <th></th>\n",
       "      <th>correct</th>\n",
       "      <th>value</th>\n",
       "      <th>q</th>\n",
       "    </tr>\n",
       "  </thead>\n",
       "  <tbody>\n",
       "    <tr>\n",
       "      <th>0</th>\n",
       "      <td>False</td>\n",
       "      <td>0.512</td>\n",
       "      <td>All data\\n1000 instances (100%)</td>\n",
       "    </tr>\n",
       "    <tr>\n",
       "      <th>1</th>\n",
       "      <td>True</td>\n",
       "      <td>0.488</td>\n",
       "      <td>All data\\n1000 instances (100%)</td>\n",
       "    </tr>\n",
       "  </tbody>\n",
       "</table>\n",
       "</div>"
      ],
      "text/plain": [
       "   correct  value                                q\n",
       "0    False  0.512  All data\\n1000 instances (100%)\n",
       "1     True  0.488  All data\\n1000 instances (100%)"
      ]
     },
     "execution_count": 20,
     "metadata": {},
     "output_type": "execute_result"
    }
   ],
   "source": [
    "all_data_df"
   ]
  },
  {
   "cell_type": "code",
   "execution_count": 21,
   "metadata": {},
   "outputs": [],
   "source": [
    "plot_df = pd.concat([quantile_df, all_data_df])\n",
    "plot_df['q'] = pd.Categorical(plot_df['q'], categories = plot_df['q'].unique())"
   ]
  },
  {
   "cell_type": "code",
   "execution_count": 22,
   "metadata": {},
   "outputs": [
    {
     "data": {
      "image/png": "[encoded data removed]",
      "text/plain": [
       "<Figure size 1600x900 with 1 Axes>"
      ]
     },
     "metadata": {},
     "output_type": "display_data"
    },
    {
     "data": {
      "text/plain": [
       "<ggplot: (381291945)>"
      ]
     },
     "execution_count": 22,
     "metadata": {},
     "output_type": "execute_result"
    }
   ],
   "source": [
    "p9.ggplot(\n",
    "  plot_df,\n",
    "  p9.aes(x = 'q', y = 'value', fill = 'correct')\n",
    ") + \\\n",
    "  p9.geom_col() + \\\n",
    "  p9.geom_vline(xintercept = 5.5, linetype = 'dashed', size = 1.2) + \\\n",
    "  p9.ylab('Percentage') + \\\n",
    "  p9.xlab('X') + \\\n",
    "  p9.labs(fill = 'Correctly classified?') + \\\n",
    "  p9.theme_gray() + \\\n",
    "  p9.theme(\n",
    "    legend_position = 'top',\n",
    "    figure_size = (16, 9),\n",
    "    text = p9.element_text(size = 12)\n",
    "  )"
   ]
  }
 ],
 "metadata": {
  "kernelspec": {
   "display_name": "Python 3",
   "language": "python",
   "name": "python3"
  },
  "language_info": {
   "codemirror_mode": {
    "name": "ipython",
    "version": 3
   },
   "file_extension": ".py",
   "mimetype": "text/x-python",
   "name": "python",
   "nbconvert_exporter": "python",
   "pygments_lexer": "ipython3",
   "version": "3.9.21"
  }
 },
 "nbformat": 4,
 "nbformat_minor": 2
}
