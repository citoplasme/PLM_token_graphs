{
 "cells": [
  {
   "cell_type": "code",
   "execution_count": 1,
   "metadata": {},
   "outputs": [],
   "source": [
    "import pandas as pd\n",
    "import numpy as np\n",
    "import matplotlib.pyplot as plt\n",
    "import matplotlib.colors as mcolors\n",
    "import graphviz"
   ]
  },
  {
   "cell_type": "code",
   "execution_count": 2,
   "metadata": {},
   "outputs": [],
   "source": [
    "def create_grey_to_black_colormap():\n",
    "  color_dictionary = {\n",
    "    'red': [\n",
    "      (0.0, 0.75, 0.75),\n",
    "      (1.0, 0.0, 0.0)\n",
    "    ],\n",
    "    'green': [\n",
    "      (0.0, 0.75, 0.75),\n",
    "      (1.0, 0.0, 0.0)\n",
    "    ],\n",
    "    'blue': [\n",
    "      (0.0, 0.75, 0.75),\n",
    "      (1.0, 0.0, 0.0)\n",
    "    ]\n",
    "  }\n",
    "    \n",
    "  return mcolors.LinearSegmentedColormap('GreyToBlack', color_dictionary)\n",
    "\n",
    "def create_yellow_colormap():\n",
    "  light_yellow = mcolors.hex2color('#FFF9E2')\n",
    "  dark_yellow = mcolors.hex2color('#FFD500')\n",
    "    \n",
    "  color_dictionary = {\n",
    "    'red':   [(0.0, light_yellow[0], light_yellow[0]), (1.0, dark_yellow[0], dark_yellow[0])],\n",
    "    'green': [(0.0, light_yellow[1], light_yellow[1]), (1.0, dark_yellow[1], dark_yellow[1])],\n",
    "    'blue':  [(0.0, light_yellow[2], light_yellow[2]), (1.0, dark_yellow[2], dark_yellow[2])]\n",
    "  }\n",
    "\n",
    "  return mcolors.LinearSegmentedColormap('YellowGradient', color_dictionary)\n",
    "\n",
    "def create_color_gradient(values, colormap):\n",
    "  norm = plt.Normalize(np.min(values), np.max(values))\n",
    "  normalized_values = norm(values)    \n",
    "  rgb_colors = colormap(normalized_values)\n",
    "  return [mcolors.to_hex(color) for color in rgb_colors]"
   ]
  },
  {
   "cell_type": "code",
   "execution_count": 3,
   "metadata": {},
   "outputs": [],
   "source": [
    "grey_to_black_cmap = create_grey_to_black_colormap()\n",
    "light_to_dark_yellow_cmap = create_yellow_colormap()"
   ]
  },
  {
   "cell_type": "code",
   "execution_count": 17,
   "metadata": {},
   "outputs": [],
   "source": [
    "def visualize_graph_before_training(filepath, head = None):\n",
    "  df = pd.read_csv(filepath)\n",
    "  if head:\n",
    "    df = df.head(head)\n",
    "  name = filepath.split('/')[-1].replace('.csv', '')\n",
    "  nodes = pd.concat([\n",
    "    df[['from_ids', 'from']].rename(columns = {'from_ids' : 'id', 'from' : 'token'}),\n",
    "    df[['to_id', 'to']].rename(columns = {'to_id' : 'id', 'to' : 'token'})],\n",
    "    axis = 0\n",
    "  ).drop_duplicates()\n",
    "  edge_colors = create_color_gradient(df['weight'], grey_to_black_cmap)\n",
    "  graph = graphviz.Digraph('3-gram', engine = 'circo') # engine = 'circo', 'twopi', 'dot\n",
    "  graph.graph_attr['dpi'] = '300'\n",
    "\n",
    "  for i, node in nodes.iterrows():\n",
    "    graph.node(str(node['id']), label = node['token'].replace('Ġ', ''), color = '#363636', style = 'filled', fillcolor = '#ffd53d', shape = 'oval')\n",
    "\n",
    "  for i, row in df.iterrows():\n",
    "    graph.edge(str(row['from_ids']), str(row['to_id']), arrowsize = '0.5', color = edge_colors[i])\n",
    "  graph.render(directory = f'./{name}', format = 'png', view = True)"
   ]
  },
  {
   "cell_type": "code",
   "execution_count": 22,
   "metadata": {},
   "outputs": [],
   "source": [
    "def visualize_graph_after_training(filepath, head = None):\n",
    "  df = pd.read_csv(filepath)\n",
    "  if head:\n",
    "    df = df.head(head)\n",
    "  name = filepath.split('/')[-1].replace('.csv', '')\n",
    "  nodes = pd.concat([\n",
    "    df[['from_ids', 'from_token']].rename(columns = {'from_ids' : 'id', 'from_token' : 'token'}),\n",
    "    df[['to_ids', 'to_token']].rename(columns = {'to_ids' : 'id', 'to_token' : 'token'})],\n",
    "    axis = 0\n",
    "  ).drop_duplicates()\n",
    "  edge_colors = create_color_gradient(df['weights'], grey_to_black_cmap)\n",
    "  graph = graphviz.Digraph('3-gram', engine = 'circo') # engine = 'circo', 'twopi', 'dot\n",
    "  graph.graph_attr['dpi'] = '300'\n",
    "\n",
    "  for i, node in nodes.iterrows():\n",
    "    graph.node(str(node['id']), label = node['token'].replace('Ġ', ''), color = '#363636', style = 'filled', fillcolor = '#ffd53d', shape = 'oval')\n",
    "\n",
    "  for i, row in df.iterrows():\n",
    "    graph.edge(str(row['from_ids']), str(row['to_ids']), arrowsize = '0.5', color = edge_colors[i])\n",
    "  graph.render(directory = f'./{name}', format = 'png', view = True)"
   ]
  },
  {
   "cell_type": "code",
   "execution_count": 42,
   "metadata": {},
   "outputs": [],
   "source": [
    "def visualize_graph_after_training_2(filepath, head = None):\n",
    "  nodes = pd.read_csv(filepath)\n",
    "  if head:\n",
    "    nodes = nodes.head(head)\n",
    "  name = filepath.split('/')[-1].replace('.csv', '')\n",
    "  node_colors = create_color_gradient(nodes['aggregated_weights'], grey_to_black_cmap)\n",
    "  graph = graphviz.Digraph('3-gram', engine = 'circo') # engine = 'circo', 'twopi', 'dot\n",
    "  graph.graph_attr['dpi'] = '300'\n",
    "\n",
    "  for i, node in nodes.iterrows():\n",
    "    graph.node(str(node['ids']), label = node['tokens'].replace('Ġ', ''), color = '#363636', style = 'filled', fillcolor = node_colors[i], shape = 'oval')\n",
    "\n",
    "  graph.render(directory = f'./{name}', format = 'png', view = True)"
   ]
  },
  {
   "cell_type": "markdown",
   "metadata": {},
   "source": [
    "# Before Model Training (Method as an XAI Tool)"
   ]
  },
  {
   "cell_type": "code",
   "execution_count": 7,
   "metadata": {},
   "outputs": [],
   "source": [
    "visualize_graph_before_training('./data/facebook-bart-large/SST-2/1126-Grouped.csv')"
   ]
  },
  {
   "cell_type": "code",
   "execution_count": 32,
   "metadata": {},
   "outputs": [],
   "source": [
    "visualize_graph_before_training('./data/facebook-bart-large/SST-2/1126-Surrogate.csv')"
   ]
  },
  {
   "cell_type": "code",
   "execution_count": 35,
   "metadata": {},
   "outputs": [],
   "source": [
    "visualize_graph_before_training('./data/facebook-bart-large/IMDb-top_1000/102-Surrogate.csv', head = 50)"
   ]
  },
  {
   "cell_type": "markdown",
   "metadata": {},
   "source": [
    "# After Model Training (XAI Technique Applied to Method)"
   ]
  },
  {
   "cell_type": "code",
   "execution_count": 44,
   "metadata": {},
   "outputs": [],
   "source": [
    "visualize_graph_after_training('./data/facebook-bart-large/SST-2/1126-Grouped-edge_importance.csv')"
   ]
  },
  {
   "cell_type": "code",
   "execution_count": 45,
   "metadata": {},
   "outputs": [],
   "source": [
    "visualize_graph_after_training('./data/facebook-bart-large/IMDb-top_1000/102-Surrogate-edge_importance.csv', head = 100)"
   ]
  },
  {
   "cell_type": "code",
   "execution_count": 39,
   "metadata": {},
   "outputs": [],
   "source": [
    "visualize_graph_after_training_2('./data/facebook-bart-large/SST-2/1126-Grouped-node_importance.csv')"
   ]
  },
  {
   "cell_type": "code",
   "execution_count": 43,
   "metadata": {},
   "outputs": [],
   "source": [
    "visualize_graph_after_training_2('./data/facebook-bart-large/IMDb-top_1000/102-Surrogate-node_importance.csv', head = 100)"
   ]
  }
 ],
 "metadata": {
  "kernelspec": {
   "display_name": "Python 3",
   "language": "python",
   "name": "python3"
  },
  "language_info": {
   "codemirror_mode": {
    "name": "ipython",
    "version": 3
   },
   "file_extension": ".py",
   "mimetype": "text/x-python",
   "name": "python",
   "nbconvert_exporter": "python",
   "pygments_lexer": "ipython3",
   "version": "3.10.17"
  }
 },
 "nbformat": 4,
 "nbformat_minor": 2
}
