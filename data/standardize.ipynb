{
 "cells": [
  {
   "cell_type": "code",
   "execution_count": 1,
   "metadata": {},
   "outputs": [],
   "source": [
    "import os\n",
    "import pandas as pd\n",
    "import sklearn.model_selection\n",
    "\n",
    "TEXT_COLUMN = 'text'\n",
    "LABEL_COLUMN = 'label'\n",
    "SEED = 42\n",
    "VALIDATION_SIZE = 0.2"
   ]
  },
  {
   "cell_type": "code",
   "execution_count": 31,
   "metadata": {},
   "outputs": [
    {
     "name": "stderr",
     "output_type": "stream",
     "text": [
      "/var/folders/1b/f52p4t996psffygjsdtcry540000gn/T/ipykernel_2014/2212938239.py:2: ParserWarning: Falling back to the 'python' engine because the 'c' engine does not support regex separators (separators > 1 char and different from '\\s+' are interpreted as regex); you can avoid this warning by specifying engine='python'.\n",
      "  TEXT_COLUMN : pd.read_csv(os.path.join('.', 'as_is', 'RTSP-MR', 'text_train.txt'), encoding = 'ISO-8859-1', sep = '\\t\\t\\t', header = None).rename(columns = {0: TEXT_COLUMN})[TEXT_COLUMN].apply(lambda x: x.encode('utf-8').decode()),\n",
      "/var/folders/1b/f52p4t996psffygjsdtcry540000gn/T/ipykernel_2014/2212938239.py:3: ParserWarning: Falling back to the 'python' engine because the 'c' engine does not support regex separators (separators > 1 char and different from '\\s+' are interpreted as regex); you can avoid this warning by specifying engine='python'.\n",
      "  LABEL_COLUMN : pd.read_csv(os.path.join('.', 'as_is', 'RTSP-MR', 'label_train.txt'), sep = '\\t\\t\\t', header = None).rename(columns = {0: LABEL_COLUMN})[LABEL_COLUMN]\n",
      "/var/folders/1b/f52p4t996psffygjsdtcry540000gn/T/ipykernel_2014/2212938239.py:7: ParserWarning: Falling back to the 'python' engine because the 'c' engine does not support regex separators (separators > 1 char and different from '\\s+' are interpreted as regex); you can avoid this warning by specifying engine='python'.\n",
      "  TEXT_COLUMN : pd.read_csv(os.path.join('.', 'as_is', 'RTSP-MR', 'text_test.txt'), encoding = 'ISO-8859-1', sep = '\\t\\t\\t', header = None).rename(columns = {0: TEXT_COLUMN})[TEXT_COLUMN].apply(lambda x: x.encode('utf-8').decode()),\n",
      "/var/folders/1b/f52p4t996psffygjsdtcry540000gn/T/ipykernel_2014/2212938239.py:8: ParserWarning: Falling back to the 'python' engine because the 'c' engine does not support regex separators (separators > 1 char and different from '\\s+' are interpreted as regex); you can avoid this warning by specifying engine='python'.\n",
      "  LABEL_COLUMN : pd.read_csv(os.path.join('.', 'as_is', 'RTSP-MR', 'label_test.txt'), sep = '\\t\\t\\t', header = None).rename(columns = {0: LABEL_COLUMN})[LABEL_COLUMN]\n"
     ]
    }
   ],
   "source": [
    "train = pd.DataFrame({\n",
    "  TEXT_COLUMN : pd.read_csv(os.path.join('.', 'as_is', 'RTSP-MR', 'text_train.txt'), encoding = 'ISO-8859-1', sep = '\\t\\t\\t', header = None).rename(columns = {0: TEXT_COLUMN})[TEXT_COLUMN].apply(lambda x: x.encode('utf-8').decode()),\n",
    "  LABEL_COLUMN : pd.read_csv(os.path.join('.', 'as_is', 'RTSP-MR', 'label_train.txt'), sep = '\\t\\t\\t', header = None).rename(columns = {0: LABEL_COLUMN})[LABEL_COLUMN]\n",
    "}).sample(frac = 1, random_state = SEED).reset_index(drop = True)\n",
    "\n",
    "test = pd.DataFrame({\n",
    "  TEXT_COLUMN : pd.read_csv(os.path.join('.', 'as_is', 'RTSP-MR', 'text_test.txt'), encoding = 'ISO-8859-1', sep = '\\t\\t\\t', header = None).rename(columns = {0: TEXT_COLUMN})[TEXT_COLUMN].apply(lambda x: x.encode('utf-8').decode()),\n",
    "  LABEL_COLUMN : pd.read_csv(os.path.join('.', 'as_is', 'RTSP-MR', 'label_test.txt'), sep = '\\t\\t\\t', header = None).rename(columns = {0: LABEL_COLUMN})[LABEL_COLUMN]\n",
    "}).sample(frac = 1, random_state = SEED).reset_index(drop = True)"
   ]
  },
  {
   "cell_type": "code",
   "execution_count": 32,
   "metadata": {},
   "outputs": [],
   "source": [
    "train, validation = sklearn.model_selection.train_test_split(train, test_size = VALIDATION_SIZE, random_state = SEED, stratify = train[LABEL_COLUMN])"
   ]
  },
  {
   "cell_type": "code",
   "execution_count": 33,
   "metadata": {},
   "outputs": [],
   "source": [
    "train.dropna(inplace = True)\n",
    "validation.dropna(inplace = True)\n",
    "test.dropna(inplace = True)"
   ]
  },
  {
   "cell_type": "code",
   "execution_count": 36,
   "metadata": {},
   "outputs": [],
   "source": [
    "STANDARDIZED_DATA_PATH = './with_validation_splits/'\n",
    "os.makedirs(os.path.join(STANDARDIZED_DATA_PATH, 'RTSP'), exist_ok = True)\n",
    "train.to_csv(os.path.join(STANDARDIZED_DATA_PATH, 'RTSP', 'train.csv'), index = False)\n",
    "validation.to_csv(os.path.join(STANDARDIZED_DATA_PATH, 'RTSP', 'validation.csv'), index = False)\n",
    "test.to_csv(os.path.join(STANDARDIZED_DATA_PATH, 'RTSP', 'test.csv'), index = False)"
   ]
  },
  {
   "cell_type": "code",
   "execution_count": 3,
   "metadata": {},
   "outputs": [],
   "source": [
    "STANDARDIZED_DATA_PATH = './with_validation_splits/'\n",
    "tr = pd.read_csv(os.path.join(STANDARDIZED_DATA_PATH, 'RTSP', 'train.csv'))\n",
    "val = pd.read_csv(os.path.join(STANDARDIZED_DATA_PATH, 'RTSP', 'validation.csv'))\n",
    "tes = pd.read_csv(os.path.join(STANDARDIZED_DATA_PATH, 'RTSP', 'test.csv'))"
   ]
  },
  {
   "cell_type": "code",
   "execution_count": 4,
   "metadata": {},
   "outputs": [
    {
     "data": {
      "text/plain": [
       "(count    5686.000000\n",
       " mean       18.112381\n",
       " std         8.460838\n",
       " min         1.000000\n",
       " 25%        12.000000\n",
       " 50%        18.000000\n",
       " 75%        24.000000\n",
       " max        50.000000\n",
       " Name: length, dtype: float64,\n",
       " count    1422.000000\n",
       " mean       18.139241\n",
       " std         8.506587\n",
       " min         1.000000\n",
       " 25%        12.000000\n",
       " 50%        18.000000\n",
       " 75%        24.000000\n",
       " max        47.000000\n",
       " Name: length, dtype: float64,\n",
       " count    3554.000000\n",
       " mean       18.127743\n",
       " std         8.483623\n",
       " min         1.000000\n",
       " 25%        12.000000\n",
       " 50%        18.000000\n",
       " 75%        24.000000\n",
       " max        46.000000\n",
       " Name: length, dtype: float64)"
      ]
     },
     "execution_count": 4,
     "metadata": {},
     "output_type": "execute_result"
    }
   ],
   "source": [
    "from sklearn.feature_extraction.text import CountVectorizer\n",
    "vectorizer = CountVectorizer()\n",
    "# Get length for each text using countvectorizer\n",
    "X = vectorizer.fit_transform(tr['text'])\n",
    "X_val = vectorizer.fit_transform(val['text'])\n",
    "X_test = vectorizer.fit_transform(tes['text'])\n",
    "tr['length'] = X.sum(axis=1)\n",
    "val['length'] = X_val.sum(axis=1)\n",
    "tes['length'] = X_test.sum(axis=1)\n",
    "\n",
    "tr['length'].describe(), val['length'].describe(), tes['length'].describe()"
   ]
  },
  {
   "cell_type": "code",
   "execution_count": 5,
   "metadata": {},
   "outputs": [
    {
     "data": {
      "text/plain": [
       "(1    0.5\n",
       " 0    0.5\n",
       " Name: label, dtype: float64,\n",
       " 1    0.5\n",
       " 0    0.5\n",
       " Name: label, dtype: float64,\n",
       " 1    0.5\n",
       " 0    0.5\n",
       " Name: label, dtype: float64)"
      ]
     },
     "execution_count": 5,
     "metadata": {},
     "output_type": "execute_result"
    }
   ],
   "source": [
    "tr['label'].value_counts(normalize = True), val['label'].value_counts(normalize = True), tes['label'].value_counts(normalize = True)"
   ]
  }
 ],
 "metadata": {
  "kernelspec": {
   "display_name": "Python 3",
   "language": "python",
   "name": "python3"
  },
  "language_info": {
   "codemirror_mode": {
    "name": "ipython",
    "version": 3
   },
   "file_extension": ".py",
   "mimetype": "text/x-python",
   "name": "python",
   "nbconvert_exporter": "python",
   "pygments_lexer": "ipython3",
   "version": "3.10.16"
  }
 },
 "nbformat": 4,
 "nbformat_minor": 2
}
